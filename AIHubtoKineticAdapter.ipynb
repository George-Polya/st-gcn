{
 "cells": [
  {
   "cell_type": "code",
   "execution_count": 2,
   "source": [
    "from glob import glob\n",
    "import json\n",
    "import os"
   ],
   "outputs": [],
   "metadata": {}
  },
  {
   "cell_type": "code",
   "execution_count": 3,
   "source": [
    "temp_list = glob(\"./*.json\")\n",
    "temp_list"
   ],
   "outputs": [
    {
     "output_type": "execute_result",
     "data": {
      "text/plain": [
       "['./1-1_cam01_fight04_place02_night_spring.json',\n",
       " './Stealing112_x264.json',\n",
       " './Fighting002_x264_check.json']"
      ]
     },
     "metadata": {},
     "execution_count": 3
    }
   ],
   "metadata": {}
  },
  {
   "cell_type": "code",
   "execution_count": 4,
   "source": [
    "temp = temp_list[0]"
   ],
   "outputs": [],
   "metadata": {}
  },
  {
   "cell_type": "code",
   "execution_count": 5,
   "source": [
    "from converter.AIhubConverter import *"
   ],
   "outputs": [],
   "metadata": {}
  },
  {
   "cell_type": "code",
   "execution_count": 6,
   "source": [
    "converter = GeneralConverter()\n",
    "aihub_paths = glob(\"/workspace/NIA/DATASET/AI-Hub_json/*.json\")\n",
    "len(aihub_paths)"
   ],
   "outputs": [
    {
     "output_type": "execute_result",
     "data": {
      "text/plain": [
       "119"
      ]
     },
     "metadata": {},
     "execution_count": 6
    }
   ],
   "metadata": {}
  },
  {
   "cell_type": "code",
   "execution_count": 7,
   "source": [
    "for path in aihub_paths:\n",
    "    try:\n",
    "        filename = os.path.basename(path)\n",
    "    \n",
    "        output_path = os.path.join(\".\",\"customData\",\"all/\")+filename\n",
    "        \n",
    "        converter.convert(path)\n",
    "        converter.store(output_path)\n",
    "    except:\n",
    "        print(output_path)"
   ],
   "outputs": [
    {
     "output_type": "stream",
     "name": "stdout",
     "text": [
      "./customData/all/28-1_cam01_fight01_place02_night_spring.json\n",
      "./customData/all/488-1_cam01_vandalism01_place09_day_spring.json\n",
      "./customData/all/240-1_cam01_swoon01_place02_night_spring.json\n",
      "./customData/all/468-1_cam01_burglary01_place09_night_spring.json\n",
      "./customData/all/407-2_cam01_assault01_place04_day_spring.json\n",
      "./customData/all/26-2_cam01_assault01_place01_night_spring.json\n",
      "./customData/all/254-1_cam01_wander01_place09_day_spring.json\n",
      "./customData/all/26-6_cam01_fight01_place01_night_spring.json\n",
      "./customData/all/37-1_cam01_fight01_place02_night_spring.json\n",
      "./customData/all/457-1_cam02_burglary02_place04_day_summer.json\n",
      "./customData/all/263-1_cam01_wander03_place02_day_spring.json\n"
     ]
    }
   ],
   "metadata": {}
  },
  {
   "cell_type": "code",
   "execution_count": 7,
   "source": [
    "# class_names = set()\n",
    "# data_path = glob(\"./customData/aihub/*.json\")"
   ],
   "outputs": [],
   "metadata": {}
  },
  {
   "cell_type": "code",
   "execution_count": 8,
   "source": [
    "# for path in data_path:\n",
    "#     filename, _ = os.path.splitext(os.path.basename(path))\n",
    "#     class_name = filename.split(\"_\")[2][:-2]\n",
    "#     class_names.add(class_name)"
   ],
   "outputs": [],
   "metadata": {}
  },
  {
   "cell_type": "code",
   "execution_count": 9,
   "source": [
    "# class_names = list(class_names)\n",
    "# class_names"
   ],
   "outputs": [],
   "metadata": {}
  },
  {
   "cell_type": "code",
   "execution_count": null,
   "source": [],
   "outputs": [],
   "metadata": {}
  }
 ],
 "metadata": {
  "orig_nbformat": 4,
  "language_info": {
   "name": "python",
   "version": "3.7.10",
   "mimetype": "text/x-python",
   "codemirror_mode": {
    "name": "ipython",
    "version": 3
   },
   "pygments_lexer": "ipython3",
   "nbconvert_exporter": "python",
   "file_extension": ".py"
  },
  "kernelspec": {
   "name": "python3",
   "display_name": "Python 3.7.10 64-bit ('st-gcn': conda)"
  },
  "interpreter": {
   "hash": "1f98bd61b5c951fa769bbc72dd2fe4bfce9ac5c594b13dc9f6b75a6e5ae1993b"
  }
 },
 "nbformat": 4,
 "nbformat_minor": 2
}