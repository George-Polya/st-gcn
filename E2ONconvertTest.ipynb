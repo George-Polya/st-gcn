{
 "cells": [
  {
   "cell_type": "code",
   "execution_count": 10,
   "source": [
    "import json\n",
    "import os\n",
    "from glob import glob\n",
    "import copy\n",
    "import re"
   ],
   "outputs": [],
   "metadata": {}
  },
  {
   "cell_type": "code",
   "execution_count": 11,
   "source": [
    "e2on_folder_path =\"/workspace/NIA/DATASET/E2ON/\"\n",
    "e2on_folder = os.listdir(e2on_folder_path)\n",
    "e2on_folder_path + e2on_folder[0]"
   ],
   "outputs": [
    {
     "output_type": "execute_result",
     "data": {
      "text/plain": [
       "'/workspace/NIA/DATASET/E2ON/21.09.16_iou70'"
      ]
     },
     "metadata": {},
     "execution_count": 11
    }
   ],
   "metadata": {}
  },
  {
   "cell_type": "code",
   "execution_count": 12,
   "source": [
    "test_path = glob(\"/workspace/NIA/DATASET/E2ON/21.09.16_iou70/*.json\")[0]\n",
    "test_path"
   ],
   "outputs": [
    {
     "output_type": "execute_result",
     "data": {
      "text/plain": [
       "'/workspace/NIA/DATASET/E2ON/21.09.16_iou70/C021_A19_SY32_P07_B13_01NAS_check.json'"
      ]
     },
     "metadata": {},
     "execution_count": 12
    }
   ],
   "metadata": {}
  },
  {
   "cell_type": "code",
   "execution_count": 13,
   "source": [
    "# with open(test_path, \"r\") as f:\n",
    "#     json_test = json.load(f)\n",
    "# json_test"
   ],
   "outputs": [],
   "metadata": {}
  },
  {
   "cell_type": "code",
   "execution_count": 14,
   "source": [
    "from converter.E2ONConverter import *\n",
    "converter = GeneralConverter()\n",
    "convert_test = converter.convert(test_path)"
   ],
   "outputs": [],
   "metadata": {}
  },
  {
   "cell_type": "code",
   "execution_count": 15,
   "source": [
    "convert_test[\"label\"]"
   ],
   "outputs": [
    {
     "output_type": "execute_result",
     "data": {
      "text/plain": [
       "'burglary'"
      ]
     },
     "metadata": {},
     "execution_count": 15
    }
   ],
   "metadata": {}
  },
  {
   "cell_type": "code",
   "execution_count": 18,
   "source": [
    "convert_test[\"data\"][0][\"skeleton\"][0][\"pose\"]"
   ],
   "outputs": [
    {
     "output_type": "execute_result",
     "data": {
      "text/plain": [
       "[0.0,\n",
       " 0.0,\n",
       " 1060.0271,\n",
       " 359.494751,\n",
       " 1139.397339,\n",
       " 365.384064,\n",
       " 1151.329834,\n",
       " 503.776825,\n",
       " 1163.046753,\n",
       " 603.903442,\n",
       " 977.771423,\n",
       " 347.787323,\n",
       " 954.089905,\n",
       " 497.926666,\n",
       " 948.175476,\n",
       " 603.840515,\n",
       " 1048.241943,\n",
       " 594.978455,\n",
       " 1095.521362,\n",
       " 597.89978,\n",
       " 1095.333862,\n",
       " 753.93042,\n",
       " 1095.327881,\n",
       " 904.090149,\n",
       " 998.200195,\n",
       " 592.052979,\n",
       " 977.684082,\n",
       " 739.22583,\n",
       " 965.856934,\n",
       " 886.412109]"
      ]
     },
     "metadata": {},
     "execution_count": 18
    }
   ],
   "metadata": {}
  },
  {
   "cell_type": "code",
   "execution_count": 19,
   "source": [
    "converter.store(\"./test.json\")"
   ],
   "outputs": [],
   "metadata": {}
  },
  {
   "cell_type": "code",
   "execution_count": 9,
   "source": [
    "len(convert_test[\"data\"][0][\"skeleton\"][0][\"pose\"])"
   ],
   "outputs": [
    {
     "output_type": "execute_result",
     "data": {
      "text/plain": [
       "30"
      ]
     },
     "metadata": {},
     "execution_count": 9
    }
   ],
   "metadata": {}
  },
  {
   "cell_type": "code",
   "execution_count": 35,
   "source": [
    "paths = glob(\"/workspace/NIA/DATASET/E2ON/21.09.03_iou70_backup/*.json\")\n"
   ],
   "outputs": [],
   "metadata": {}
  },
  {
   "cell_type": "code",
   "execution_count": 36,
   "source": [
    "for path in paths:\n",
    "    try:\n",
    "        filename = os.path.basename(path)\n",
    "        output_path = os.path.join(\".\",\"customData\",\"E2ON/\")+filename\n",
    "        converter.convert(path)\n",
    "        converter.store(output_path)\n",
    "    except:\n",
    "        print(output_path)"
   ],
   "outputs": [],
   "metadata": {}
  },
  {
   "cell_type": "code",
   "execution_count": null,
   "source": [],
   "outputs": [],
   "metadata": {}
  },
  {
   "cell_type": "code",
   "execution_count": null,
   "source": [],
   "outputs": [],
   "metadata": {}
  }
 ],
 "metadata": {
  "orig_nbformat": 4,
  "language_info": {
   "name": "python",
   "version": "3.7.10",
   "mimetype": "text/x-python",
   "codemirror_mode": {
    "name": "ipython",
    "version": 3
   },
   "pygments_lexer": "ipython3",
   "nbconvert_exporter": "python",
   "file_extension": ".py"
  },
  "kernelspec": {
   "name": "python3",
   "display_name": "Python 3.7.10 64-bit ('st-gcn': conda)"
  },
  "interpreter": {
   "hash": "1f98bd61b5c951fa769bbc72dd2fe4bfce9ac5c594b13dc9f6b75a6e5ae1993b"
  }
 },
 "nbformat": 4,
 "nbformat_minor": 2
}