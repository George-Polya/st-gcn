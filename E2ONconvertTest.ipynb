{
 "cells": [
  {
   "cell_type": "code",
   "execution_count": 1,
   "source": [
    "import json\n",
    "import os\n",
    "from glob import glob\n",
    "import copy\n",
    "import re\n",
    "from tqdm import tqdm"
   ],
   "outputs": [],
   "metadata": {}
  },
  {
   "cell_type": "code",
   "execution_count": 2,
   "source": [
    "e2on_folder_path =\"/workspace/NIA/DATASET/E2ON/\"\n",
    "e2on_folder = os.listdir(e2on_folder_path)\n",
    "e2on_folder_path + e2on_folder[0]"
   ],
   "outputs": [
    {
     "output_type": "execute_result",
     "data": {
      "text/plain": [
       "'/workspace/NIA/DATASET/E2ON/21.08.17_iou40'"
      ]
     },
     "metadata": {},
     "execution_count": 2
    }
   ],
   "metadata": {}
  },
  {
   "cell_type": "code",
   "execution_count": 3,
   "source": [
    "test_path = glob(\"/workspace/NIA/DATASET/E2ON/21.09.16_iou70/*.json\")[0]\n",
    "test_path"
   ],
   "outputs": [
    {
     "output_type": "execute_result",
     "data": {
      "text/plain": [
       "'/workspace/NIA/DATASET/E2ON/21.09.16_iou70/C021_A19_SY32_P07_B13_01NAS_check.json'"
      ]
     },
     "metadata": {},
     "execution_count": 3
    }
   ],
   "metadata": {}
  },
  {
   "cell_type": "code",
   "execution_count": 4,
   "source": [
    "# with open(test_path, \"r\") as f:\n",
    "#     json_test = json.load(f)\n",
    "# json_test"
   ],
   "outputs": [],
   "metadata": {}
  },
  {
   "cell_type": "code",
   "execution_count": 5,
   "source": [
    "from converter.E2ONConverter import *\n",
    "converter = GeneralConverter()\n",
    "convert_test = converter.convert(test_path)"
   ],
   "outputs": [],
   "metadata": {}
  },
  {
   "cell_type": "code",
   "execution_count": 6,
   "source": [
    "convert_test[\"label\"]"
   ],
   "outputs": [
    {
     "output_type": "execute_result",
     "data": {
      "text/plain": [
       "'C021'"
      ]
     },
     "metadata": {},
     "execution_count": 6
    }
   ],
   "metadata": {}
  },
  {
   "cell_type": "code",
   "execution_count": 7,
   "source": [
    "convert_test[\"data\"][0][\"skeleton\"][0][\"pose\"]"
   ],
   "outputs": [
    {
     "output_type": "execute_result",
     "data": {
      "text/plain": [
       "[0.0,\n",
       " 0.0,\n",
       " 1060.0271,\n",
       " 359.494751,\n",
       " 1139.397339,\n",
       " 365.384064,\n",
       " 1151.329834,\n",
       " 503.776825,\n",
       " 1163.046753,\n",
       " 603.903442,\n",
       " 977.771423,\n",
       " 347.787323,\n",
       " 954.089905,\n",
       " 497.926666,\n",
       " 948.175476,\n",
       " 603.840515,\n",
       " 1048.241943,\n",
       " 594.978455,\n",
       " 1095.521362,\n",
       " 597.89978,\n",
       " 1095.333862,\n",
       " 753.93042,\n",
       " 1095.327881,\n",
       " 904.090149,\n",
       " 998.200195,\n",
       " 592.052979,\n",
       " 977.684082,\n",
       " 739.22583,\n",
       " 965.856934,\n",
       " 886.412109]"
      ]
     },
     "metadata": {},
     "execution_count": 7
    }
   ],
   "metadata": {}
  },
  {
   "cell_type": "code",
   "execution_count": 8,
   "source": [
    "converter.store(\"./test.json\")"
   ],
   "outputs": [],
   "metadata": {}
  },
  {
   "cell_type": "code",
   "execution_count": 9,
   "source": [
    "len(convert_test[\"data\"][0][\"skeleton\"][0][\"pose\"])"
   ],
   "outputs": [
    {
     "output_type": "execute_result",
     "data": {
      "text/plain": [
       "30"
      ]
     },
     "metadata": {},
     "execution_count": 9
    }
   ],
   "metadata": {}
  },
  {
   "cell_type": "code",
   "execution_count": 10,
   "source": [
    "e2on_root = \"/workspace/NIA/DATASET/E2ON/\"\n",
    "\n",
    "path_list = os.listdir(\"/workspace/NIA/DATASET/E2ON/\")"
   ],
   "outputs": [],
   "metadata": {}
  },
  {
   "cell_type": "code",
   "execution_count": 14,
   "source": [
    "count = 0\n",
    "for path_element in path_list:\n",
    "    paths = glob(e2on_root + path_element+\"/*.json\")\n",
    "    for path in paths:\n",
    "        try:\n",
    "            filename = os.path.basename(path)\n",
    "            output_path = os.path.join(\".\",\"customData\",\"E2ON/\")+filename\n",
    "            converter.convert(path)\n",
    "            converter.store(output_path)\n",
    "        except:\n",
    "            print(path)\n",
    "\n",
    "print(count)"
   ],
   "outputs": [
    {
     "output_type": "stream",
     "name": "stdout",
     "text": [
      "0\n"
     ]
    }
   ],
   "metadata": {}
  },
  {
   "cell_type": "code",
   "execution_count": null,
   "source": [],
   "outputs": [],
   "metadata": {}
  }
 ],
 "metadata": {
  "orig_nbformat": 4,
  "language_info": {
   "name": "python",
   "version": "3.7.10",
   "mimetype": "text/x-python",
   "codemirror_mode": {
    "name": "ipython",
    "version": 3
   },
   "pygments_lexer": "ipython3",
   "nbconvert_exporter": "python",
   "file_extension": ".py"
  },
  "kernelspec": {
   "name": "python3",
   "display_name": "Python 3.7.10 64-bit ('st-gcn': conda)"
  },
  "interpreter": {
   "hash": "1f98bd61b5c951fa769bbc72dd2fe4bfce9ac5c594b13dc9f6b75a6e5ae1993b"
  }
 },
 "nbformat": 4,
 "nbformat_minor": 2
}