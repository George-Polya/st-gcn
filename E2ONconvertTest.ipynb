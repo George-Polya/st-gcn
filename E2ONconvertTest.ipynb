{
 "cells": [
  {
   "cell_type": "code",
   "execution_count": 1,
   "source": [
    "import json\n",
    "import os\n",
    "from glob import glob\n",
    "import copy\n",
    "import re"
   ],
   "outputs": [],
   "metadata": {}
  },
  {
   "cell_type": "code",
   "execution_count": 2,
   "source": [
    "e2on_folder_path =\"/workspace/NIA/DATASET/E2ON/\"\n",
    "e2on_folder = os.listdir(e2on_folder_path)\n",
    "e2on_folder_path + e2on_folder[8]"
   ],
   "outputs": [
    {
     "output_type": "execute_result",
     "data": {
      "text/plain": [
       "'/workspace/NIA/DATASET/E2ON/21.09.03_iou70_backup'"
      ]
     },
     "metadata": {},
     "execution_count": 2
    }
   ],
   "metadata": {}
  },
  {
   "cell_type": "code",
   "execution_count": 3,
   "source": [
    "test_path = glob(\"/workspace/NIA/DATASET/E2ON/21.08.17_iou40/*.json\")[0]\n",
    "test_path"
   ],
   "outputs": [
    {
     "output_type": "execute_result",
     "data": {
      "text/plain": [
       "'/workspace/NIA/DATASET/E2ON/21.09.03_iou70_backup/C021_A21_SY16_P07_B08_01DAS_check.json'"
      ]
     },
     "metadata": {},
     "execution_count": 3
    }
   ],
   "metadata": {}
  },
  {
   "cell_type": "code",
   "execution_count": 4,
   "source": [
    "# with open(test_path, \"r\") as f:\n",
    "#     json_test = json.load(f)\n",
    "# json_test"
   ],
   "outputs": [],
   "metadata": {}
  },
  {
   "cell_type": "code",
   "execution_count": 5,
   "source": [
    "from converter.E2ONConverter import *\n",
    "converter = GeneralConverter()\n",
    "convert_test = converter.convert(test_path)"
   ],
   "outputs": [
    {
     "output_type": "stream",
     "name": "stdout",
     "text": [
      "C021\n"
     ]
    }
   ],
   "metadata": {}
  },
  {
   "cell_type": "code",
   "execution_count": 6,
   "source": [
    "converter.store(\"./test.json\")"
   ],
   "outputs": [],
   "metadata": {}
  },
  {
   "cell_type": "code",
   "execution_count": null,
   "source": [
    "len(convert_test[\"data\"][0][\"skeleton\"][0][\"pose\"])"
   ],
   "outputs": [],
   "metadata": {}
  },
  {
   "cell_type": "code",
   "execution_count": null,
   "source": [
    "for folder in e2on_folder[:7]:\n",
    "    data_path = glob(e2on_folder_path + folder+\"/*.json\")\n",
    "    for path in data_path:\n",
    "        filename = os.path.basename(path)\n",
    "        print(filename)"
   ],
   "outputs": [],
   "metadata": {}
  },
  {
   "cell_type": "code",
   "execution_count": null,
   "source": [],
   "outputs": [],
   "metadata": {}
  }
 ],
 "metadata": {
  "orig_nbformat": 4,
  "language_info": {
   "name": "python",
   "version": "3.7.10",
   "mimetype": "text/x-python",
   "codemirror_mode": {
    "name": "ipython",
    "version": 3
   },
   "pygments_lexer": "ipython3",
   "nbconvert_exporter": "python",
   "file_extension": ".py"
  },
  "kernelspec": {
   "name": "python3",
   "display_name": "Python 3.7.10 64-bit ('st-gcn': conda)"
  },
  "interpreter": {
   "hash": "1f98bd61b5c951fa769bbc72dd2fe4bfce9ac5c594b13dc9f6b75a6e5ae1993b"
  }
 },
 "nbformat": 4,
 "nbformat_minor": 2
}