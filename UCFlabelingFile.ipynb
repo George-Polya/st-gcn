{
 "cells": [
  {
   "cell_type": "code",
   "execution_count": 49,
   "source": [
    "import os\n",
    "from glob import glob\n",
    "json_paths = glob(\"./customData/UCF/ucf_val/*.json\")"
   ],
   "outputs": [],
   "metadata": {}
  },
  {
   "cell_type": "code",
<<<<<<< HEAD
   "execution_count": 3,
   "source": [
    "import torch\n",
    "GPU_NUM = 1\n",
    "device = torch.device(f\"cuda:{GPU_NUM}\" if torch.cuda.is_available() else \"cpu\")\n",
    "torch.cuda.set_device(device)\n",
    "print(\"Avaiable devices \", torch.cuda.device_count())\n",
    "print(\"Current cuda device \", torch.cuda.current_device())\n",
    "print(torch.cuda.get_device_name(device))"
   ],
   "outputs": [
    {
     "output_type": "stream",
     "name": "stdout",
     "text": [
      "Avaiable devices  8\n",
      "Current cuda device  1\n",
      "Tesla V100-PCIE-32GB\n"
     ]
    }
   ],
   "metadata": {}
  },
  {
   "cell_type": "code",
=======
>>>>>>> a697d2d44d891838a95fea19dd44c88b3202c95c
   "execution_count": 50,
   "source": [
    "json_name = json_paths[0].split(\"/\")[-1].split(\".\")[0]\n",
    "json_name"
   ],
   "outputs": [
    {
     "output_type": "execute_result",
     "data": {
      "text/plain": [
       "'Stealing020_x264'"
      ]
     },
     "metadata": {},
     "execution_count": 50
    }
   ],
   "metadata": {}
  },
  {
   "cell_type": "code",
   "execution_count": 51,
   "source": [
    "import json\n",
    "with open(json_paths[0], \"r\") as f:\n",
    "    json_file = json.load(f)\n"
   ],
   "outputs": [],
   "metadata": {}
  },
  {
   "cell_type": "code",
   "execution_count": 52,
   "source": [
    "json_file[\"label\"]"
   ],
   "outputs": [
    {
     "output_type": "execute_result",
     "data": {
      "text/plain": [
       "'Stealing'"
      ]
     },
     "metadata": {},
     "execution_count": 52
    }
   ],
   "metadata": {}
  },
  {
   "cell_type": "code",
   "execution_count": 53,
   "source": [
    "test_dict = {\n",
    "    json_name:{\n",
    "        \"has_skeleton\" : True,\n",
    "        \"label\" : json_file[\"label\"],\n",
    "        \"label_index\" : json_file[\"label_index\"]\n",
    "    }\n",
    "}"
   ],
   "outputs": [],
   "metadata": {}
  },
  {
   "cell_type": "code",
   "execution_count": 55,
   "source": [
    "ucf_val_label_dict = dict()"
   ],
   "outputs": [],
   "metadata": {}
  },
  {
   "cell_type": "code",
   "execution_count": 56,
   "source": [
    "for path in json_paths:\n",
    "    json_name = path.split(\"/\")[-1].split(\".\")[0]\n",
    "    with open(path, \"r\") as f:\n",
    "        json_file = json.load(f)\n",
    "\n",
    "    ucf_val_label_dict[\"{}\".format(json_name)] = {\n",
    "        \"has_skeleton\" : True,\n",
    "        \"label\" : json_file[\"label\"],\n",
    "        \"label_index\" : json_file[\"label_index\"]\n",
    "    }"
   ],
   "outputs": [],
   "metadata": {}
  },
  {
   "cell_type": "code",
   "execution_count": 61,
   "source": [
    "ucf_val_label_dict"
   ],
   "outputs": [
    {
     "output_type": "execute_result",
     "data": {
      "text/plain": [
       "{'Stealing020_x264': {'has_skeleton': True,\n",
       "  'label': 'Stealing',\n",
       "  'label_index': '2'},\n",
       " 'Stealing012_x264': {'has_skeleton': True,\n",
       "  'label': 'Stealing',\n",
       "  'label_index': '2'},\n",
       " 'Stealing052_x264': {'has_skeleton': True,\n",
       "  'label': 'Stealing',\n",
       "  'label_index': '2'},\n",
       " 'Stealing050_x264': {'has_skeleton': True,\n",
       "  'label': 'Stealing',\n",
       "  'label_index': '2'},\n",
       " 'Stealing088_x264': {'has_skeleton': True,\n",
       "  'label': 'Stealing',\n",
       "  'label_index': '2'},\n",
       " 'Assault005_x264': {'has_skeleton': True,\n",
       "  'label': 'Assault',\n",
       "  'label_index': '2'},\n",
       " 'Assault030_x264': {'has_skeleton': True,\n",
       "  'label': 'Assault',\n",
       "  'label_index': '2'},\n",
       " 'Stealing008_x264': {'has_skeleton': True,\n",
       "  'label': 'Stealing',\n",
       "  'label_index': '2'},\n",
       " 'Assault016_x264': {'has_skeleton': True,\n",
       "  'label': 'Assault',\n",
       "  'label_index': '2'},\n",
       " 'Assault029_x264': {'has_skeleton': True,\n",
       "  'label': 'Assault',\n",
       "  'label_index': '2'},\n",
       " 'Stealing021_x264': {'has_skeleton': True,\n",
       "  'label': 'Stealing',\n",
       "  'label_index': '2'},\n",
       " 'Stealing069_x264': {'has_skeleton': True,\n",
       "  'label': 'Stealing',\n",
       "  'label_index': '2'},\n",
       " 'Shoplifting048_x264': {'has_skeleton': True,\n",
       "  'label': 'Shoplifting',\n",
       "  'label_index': '2'},\n",
       " 'Stealing022_x264': {'has_skeleton': True,\n",
       "  'label': 'Stealing',\n",
       "  'label_index': '2'},\n",
       " 'Stealing078_x264': {'has_skeleton': True,\n",
       "  'label': 'Stealing',\n",
       "  'label_index': '2'},\n",
       " 'Stealing106_x264': {'has_skeleton': True,\n",
       "  'label': 'Stealing',\n",
       "  'label_index': '2'},\n",
       " 'Assault017_x264': {'has_skeleton': True,\n",
       "  'label': 'Assault',\n",
       "  'label_index': '2'},\n",
       " 'Shoplifting031_x264': {'has_skeleton': True,\n",
       "  'label': 'Shoplifting',\n",
       "  'label_index': '2'},\n",
       " 'Shoplifting014_x264': {'has_skeleton': True,\n",
       "  'label': 'Shoplifting',\n",
       "  'label_index': '2'},\n",
       " 'Shoplifting052_x264': {'has_skeleton': True,\n",
       "  'label': 'Shoplifting',\n",
       "  'label_index': '2'},\n",
       " 'Shoplifting045_x264': {'has_skeleton': True,\n",
       "  'label': 'Shoplifting',\n",
       "  'label_index': '2'},\n",
       " 'Stealing081_x264': {'has_skeleton': True,\n",
       "  'label': 'Stealing',\n",
       "  'label_index': '2'},\n",
       " 'Fighting029_x264': {'has_skeleton': True,\n",
       "  'label': 'Fighting',\n",
       "  'label_index': '2'},\n",
       " 'Assault039_x264': {'has_skeleton': True,\n",
       "  'label': 'Assault',\n",
       "  'label_index': '2'},\n",
       " 'Stealing019_x264': {'has_skeleton': True,\n",
       "  'label': 'Stealing',\n",
       "  'label_index': '2'},\n",
       " 'Stealing068_x264': {'has_skeleton': True,\n",
       "  'label': 'Stealing',\n",
       "  'label_index': '2'},\n",
       " 'Shoplifting007_x264': {'has_skeleton': True,\n",
       "  'label': 'Shoplifting',\n",
       "  'label_index': '2'},\n",
       " 'Shoplifting049_x264': {'has_skeleton': True,\n",
       "  'label': 'Shoplifting',\n",
       "  'label_index': '2'},\n",
       " 'Fighting010_x264': {'has_skeleton': True,\n",
       "  'label': 'Fighting',\n",
       "  'label_index': '2'},\n",
       " 'Stealing007_x264': {'has_skeleton': True,\n",
       "  'label': 'Stealing',\n",
       "  'label_index': '2'},\n",
       " 'Fighting044_x264': {'has_skeleton': True,\n",
       "  'label': 'Fighting',\n",
       "  'label_index': '2'},\n",
       " 'Stealing042_x264': {'has_skeleton': True,\n",
       "  'label': 'Stealing',\n",
       "  'label_index': '2'},\n",
       " 'Fighting009_x264': {'has_skeleton': True,\n",
       "  'label': 'Fighting',\n",
       "  'label_index': '2'},\n",
       " 'Fighting034_x264': {'has_skeleton': True,\n",
       "  'label': 'Fighting',\n",
       "  'label_index': '2'},\n",
       " 'Assault014_x264': {'has_skeleton': True,\n",
       "  'label': 'Assault',\n",
       "  'label_index': '2'},\n",
       " 'Assault028_x264': {'has_skeleton': True,\n",
       "  'label': 'Assault',\n",
       "  'label_index': '2'},\n",
       " 'Assault004_x264': {'has_skeleton': True,\n",
       "  'label': 'Assault',\n",
       "  'label_index': '2'},\n",
       " 'Assault012_x264': {'has_skeleton': True,\n",
       "  'label': 'Assault',\n",
       "  'label_index': '2'},\n",
       " 'Stealing098_x264': {'has_skeleton': True,\n",
       "  'label': 'Stealing',\n",
       "  'label_index': '2'},\n",
       " 'Stealing072_x264': {'has_skeleton': True,\n",
       "  'label': 'Stealing',\n",
       "  'label_index': '2'},\n",
       " 'Fighting011_x264': {'has_skeleton': True,\n",
       "  'label': 'Fighting',\n",
       "  'label_index': '2'},\n",
       " 'Stealing097_x264': {'has_skeleton': True,\n",
       "  'label': 'Stealing',\n",
       "  'label_index': '2'},\n",
       " 'Fighting028_x264': {'has_skeleton': True,\n",
       "  'label': 'Fighting',\n",
       "  'label_index': '2'},\n",
       " 'Fighting016_x264': {'has_skeleton': True,\n",
       "  'label': 'Fighting',\n",
       "  'label_index': '2'},\n",
       " 'Assault018_x264': {'has_skeleton': True,\n",
       "  'label': 'Assault',\n",
       "  'label_index': '2'},\n",
       " 'Shoplifting015_x264': {'has_skeleton': True,\n",
       "  'label': 'Shoplifting',\n",
       "  'label_index': '2'},\n",
       " 'Stealing063_x264': {'has_skeleton': True,\n",
       "  'label': 'Stealing',\n",
       "  'label_index': '2'},\n",
       " 'Assault040_x264': {'has_skeleton': True,\n",
       "  'label': 'Assault',\n",
       "  'label_index': '2'},\n",
       " 'Assault010_x264': {'has_skeleton': True,\n",
       "  'label': 'Assault',\n",
       "  'label_index': '2'},\n",
       " 'Fighting022_x264': {'has_skeleton': True,\n",
       "  'label': 'Fighting',\n",
       "  'label_index': '2'},\n",
       " 'Stealing046_x264': {'has_skeleton': True,\n",
       "  'label': 'Stealing',\n",
       "  'label_index': '2'},\n",
       " 'Stealing082_x264': {'has_skeleton': True,\n",
       "  'label': 'Stealing',\n",
       "  'label_index': '2'},\n",
       " 'Stealing024_x264': {'has_skeleton': True,\n",
       "  'label': 'Stealing',\n",
       "  'label_index': '2'},\n",
       " 'Stealing113_x264': {'has_skeleton': True,\n",
       "  'label': 'Stealing',\n",
       "  'label_index': '2'},\n",
       " 'Shoplifting017_x264': {'has_skeleton': True,\n",
       "  'label': 'Shoplifting',\n",
       "  'label_index': '2'},\n",
       " 'Stealing049_x264': {'has_skeleton': True,\n",
       "  'label': 'Stealing',\n",
       "  'label_index': '2'},\n",
       " 'Stealing108_x264': {'has_skeleton': True,\n",
       "  'label': 'Stealing',\n",
       "  'label_index': '2'},\n",
       " 'Shoplifting054_x264': {'has_skeleton': True,\n",
       "  'label': 'Shoplifting',\n",
       "  'label_index': '2'},\n",
       " 'Stealing094_x264': {'has_skeleton': True,\n",
       "  'label': 'Stealing',\n",
       "  'label_index': '2'},\n",
       " 'Shoplifting036_x264': {'has_skeleton': True,\n",
       "  'label': 'Shoplifting',\n",
       "  'label_index': '2'},\n",
       " 'Fighting006_x264': {'has_skeleton': True,\n",
       "  'label': 'Fighting',\n",
       "  'label_index': '2'},\n",
       " 'Stealing060_x264': {'has_skeleton': True,\n",
       "  'label': 'Stealing',\n",
       "  'label_index': '2'},\n",
       " 'Fighting018_x264': {'has_skeleton': True,\n",
       "  'label': 'Fighting',\n",
       "  'label_index': '2'},\n",
       " 'Fighting041_x264': {'has_skeleton': True,\n",
       "  'label': 'Fighting',\n",
       "  'label_index': '2'},\n",
       " 'Fighting048_x264': {'has_skeleton': True,\n",
       "  'label': 'Fighting',\n",
       "  'label_index': '2'},\n",
       " 'Fighting021_x264': {'has_skeleton': True,\n",
       "  'label': 'Fighting',\n",
       "  'label_index': '2'},\n",
       " 'Assault011_x264': {'has_skeleton': True,\n",
       "  'label': 'Assault',\n",
       "  'label_index': '2'},\n",
       " 'Shoplifting055_x264': {'has_skeleton': True,\n",
       "  'label': 'Shoplifting',\n",
       "  'label_index': '2'},\n",
       " 'Shoplifting041_x264': {'has_skeleton': True,\n",
       "  'label': 'Shoplifting',\n",
       "  'label_index': '2'},\n",
       " 'Shoplifting003_x264': {'has_skeleton': True,\n",
       "  'label': 'Shoplifting',\n",
       "  'label_index': '2'},\n",
       " 'Stealing086_x264': {'has_skeleton': True,\n",
       "  'label': 'Stealing',\n",
       "  'label_index': '2'},\n",
       " 'Shoplifting034_x264': {'has_skeleton': True,\n",
       "  'label': 'Shoplifting',\n",
       "  'label_index': '2'},\n",
       " 'Stealing074_x264': {'has_skeleton': True,\n",
       "  'label': 'Stealing',\n",
       "  'label_index': '2'},\n",
       " 'Fighting030_x264': {'has_skeleton': True,\n",
       "  'label': 'Fighting',\n",
       "  'label_index': '2'},\n",
       " 'Assault024_x264': {'has_skeleton': True,\n",
       "  'label': 'Assault',\n",
       "  'label_index': '2'}}"
      ]
     },
     "metadata": {},
     "execution_count": 61
    }
   ],
   "metadata": {}
  },
  {
   "cell_type": "code",
   "execution_count": 59,
   "source": [
    "output_path = \"./customData/UCF/\"\n",
    "\n",
    "with open(output_path+\"ucf_val_label.json\", \"w\") as f:\n",
    "    json.dump(ucf_val_label_dict, f, indent=2)"
   ],
   "outputs": [],
   "metadata": {}
  },
  {
   "cell_type": "code",
   "execution_count": null,
   "source": [],
   "outputs": [],
   "metadata": {}
  }
 ],
 "metadata": {
  "orig_nbformat": 4,
  "language_info": {
   "name": "python",
   "version": "3.7.10",
   "mimetype": "text/x-python",
   "codemirror_mode": {
    "name": "ipython",
    "version": 3
   },
   "pygments_lexer": "ipython3",
   "nbconvert_exporter": "python",
   "file_extension": ".py"
  },
  "kernelspec": {
   "name": "python3",
   "display_name": "Python 3.7.10 64-bit ('st-gcn': conda)"
  },
  "interpreter": {
<<<<<<< HEAD
   "hash": "eb9d498b9ba77637431559cbd4db07353cb5dd582a435ea80db0f1ac91478ca5"
=======
   "hash": "e469293036e9cb50d023fe5df1cac3782e054affa331d7eac734658039e8e7b3"
>>>>>>> a697d2d44d891838a95fea19dd44c88b3202c95c
  }
 },
 "nbformat": 4,
 "nbformat_minor": 2
}