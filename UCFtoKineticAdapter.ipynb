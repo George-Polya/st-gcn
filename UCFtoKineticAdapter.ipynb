{
 "cells": [
  {
   "cell_type": "code",
   "execution_count": 1,
   "source": [
    "from glob import glob\n",
    "import json\n",
    "import os"
   ],
   "outputs": [],
   "metadata": {}
  },
  {
   "cell_type": "code",
   "execution_count": 2,
   "source": [
    "# class_names = set()\n",
    "# data_path = glob(\"./customData/aihub/*.json\")"
   ],
   "outputs": [],
   "metadata": {}
  },
  {
   "cell_type": "code",
   "execution_count": 3,
   "source": [
    "# for path in data_path:\n",
    "#     filename, _ = os.path.splitext(os.path.basename(path))\n",
    "#     class_name = filename.split(\"_\")[2][:-2]\n",
    "#     class_names.add(class_name)"
   ],
   "outputs": [],
   "metadata": {}
  },
  {
   "cell_type": "code",
   "execution_count": 4,
   "source": [
    "# class_names = list(class_names)\n",
    "# class_names"
   ],
   "outputs": [],
   "metadata": {}
  },
  {
   "cell_type": "code",
   "execution_count": 5,
   "source": [
    "from converter.UCFConverter import *\n",
    "converter = GeneralConverter()"
   ],
   "outputs": [],
   "metadata": {}
  },
  {
   "cell_type": "code",
   "execution_count": 6,
   "source": [
    "ucf_assault_paths = glob(\"/workspace/NIA/DATASET/UCF-Crime/UCF-Crime_Assault/*[!_check].json\")\n",
    "ucf_fightihg_paths = glob(\"/workspace/NIA/DATASET/UCF-Crime/UCF-Crime_Fighting/*[!_check].json\")\n",
    "ucf_shoplifting_paths = glob(\"/workspace/NIA/DATASET/UCF-Crime/UCF-Crime_Shoplifting/*[!_check].json\")\n",
    "ucf_stealing_paths = glob(\"/workspace/NIA/DATASET/UCF-Crime/UCF-Crime_Stealing/*[!_check].json\")\n",
    "ucf_paths = ucf_assault_paths + ucf_fightihg_paths + ucf_shoplifting_paths + ucf_stealing_paths"
   ],
   "outputs": [],
   "metadata": {}
  },
  {
   "cell_type": "code",
   "execution_count": 7,
   "source": [
    "for path in ucf_paths:\n",
    "    try:\n",
    "        filename = os.path.basename(path)\n",
    "    \n",
    "        output_path = os.path.join(\".\",\"customData\",\"all/\")+filename\n",
    "        \n",
    "        converter.convert(path)\n",
    "        converter.store(output_path)\n",
    "    except:\n",
    "        print(output_path)"
   ],
   "outputs": [],
   "metadata": {}
  },
  {
   "cell_type": "code",
   "execution_count": 1,
   "source": [
    "x = 10\n",
    "y = 40\n",
    "z = 30\n",
    "print(x<y<z)"
   ],
   "outputs": [
    {
     "output_type": "stream",
     "name": "stdout",
     "text": [
      "False\n"
     ]
    }
   ],
   "metadata": {}
  },
  {
   "cell_type": "code",
   "execution_count": null,
   "source": [],
   "outputs": [],
   "metadata": {}
  }
 ],
 "metadata": {
  "orig_nbformat": 4,
  "language_info": {
   "name": "python",
   "version": "3.7.10",
   "mimetype": "text/x-python",
   "codemirror_mode": {
    "name": "ipython",
    "version": 3
   },
   "pygments_lexer": "ipython3",
   "nbconvert_exporter": "python",
   "file_extension": ".py"
  },
  "kernelspec": {
   "name": "python3",
   "display_name": "Python 3.7.10 64-bit ('st-gcn': conda)"
  },
  "interpreter": {
   "hash": "1f98bd61b5c951fa769bbc72dd2fe4bfce9ac5c594b13dc9f6b75a6e5ae1993b"
  }
 },
 "nbformat": 4,
 "nbformat_minor": 2
}