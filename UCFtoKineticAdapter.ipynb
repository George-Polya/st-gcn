{
 "cells": [
  {
   "cell_type": "code",
   "execution_count": 1,
   "source": [
    "import json\n",
    "import os\n",
    "from glob import glob\n",
    "import copy\n",
    "import re"
   ],
   "outputs": [],
   "metadata": {}
  },
  {
   "cell_type": "markdown",
   "source": [],
   "metadata": {}
  },
  {
   "cell_type": "code",
   "execution_count": 2,
   "source": [
    "ucf_paths = glob(\"./*.json\")"
   ],
   "outputs": [],
   "metadata": {}
  },
  {
   "cell_type": "code",
   "execution_count": 3,
   "source": [
    "from converter.Converter import *"
   ],
   "outputs": [],
   "metadata": {}
  },
  {
   "cell_type": "code",
   "execution_count": 22,
   "source": [
    "ucf_folders_path = \"../dataset/UCF-Crime/UCF-Crime_Fighting/\"\n",
    "ucf_data_paths = glob(ucf_folders_path+\"*.json\")\n",
    "checked = glob(ucf_folders_path+\"*_check.json\")\n"
   ],
   "outputs": [],
   "metadata": {}
  },
  {
   "cell_type": "code",
   "execution_count": null,
   "source": [],
   "outputs": [],
   "metadata": {}
  },
  {
   "cell_type": "code",
   "execution_count": 23,
   "source": [
    "input_path = ucf_data_paths[0]\n",
    "input_path"
   ],
   "outputs": [
    {
     "output_type": "execute_result",
     "data": {
      "text/plain": [
       "'../dataset/UCF-Crime/UCF-Crime_Fighting/Fighting026_x264.json'"
      ]
     },
     "metadata": {},
     "execution_count": 23
    }
   ],
   "metadata": {}
  },
  {
   "cell_type": "code",
   "execution_count": 24,
   "source": [
    "converter = GeneralConverter()\n",
    "test = converter.convert(input_path)"
   ],
   "outputs": [],
   "metadata": {}
  },
  {
   "cell_type": "code",
   "execution_count": 25,
   "source": [
    "test[\"label\"]"
   ],
   "outputs": [
    {
     "output_type": "execute_result",
     "data": {
      "text/plain": [
       "'Fighting'"
      ]
     },
     "metadata": {},
     "execution_count": 25
    }
   ],
   "metadata": {}
  },
  {
   "cell_type": "code",
   "execution_count": 26,
   "source": [
    "not_check = [x for x in ucf_data_paths if x not in checked]"
   ],
   "outputs": [],
   "metadata": {}
  },
  {
   "cell_type": "code",
   "execution_count": 27,
   "source": [
    "for input_path in not_check:\n",
    "    output_path = input_path.split(\"/\")[-1]\n",
    "    output_path = os.path.join(\".\",\"customData\",\"UCF/\") + output_path\n",
    "    print(output_path)\n",
    "    converter = FightingConverter()\n",
    "    converter.convert(input_path)\n",
    "    converter.store(output_path)"
   ],
   "outputs": [
    {
     "output_type": "stream",
     "name": "stdout",
     "text": [
      "./customData/UCF/Fighting026_x264.json\n",
      "./customData/UCF/Fighting002_x264.json\n",
      "./customData/UCF/Fighting003_x264.json\n",
      "./customData/UCF/Fighting004_x264.json\n",
      "./customData/UCF/Fighting005_x264.json\n",
      "./customData/UCF/Fighting006_x264.json\n",
      "./customData/UCF/Fighting007_x264.json\n",
      "./customData/UCF/Fighting008_x264.json\n",
      "./customData/UCF/Fighting009_x264.json\n",
      "./customData/UCF/Fighting010_x264.json\n",
      "./customData/UCF/Fighting011_x264.json\n",
      "./customData/UCF/Fighting012_x264.json\n",
      "./customData/UCF/Fighting013_x264.json\n",
      "./customData/UCF/Fighting014_x264.json\n",
      "./customData/UCF/Fighting015_x264.json\n",
      "./customData/UCF/Fighting016_x264.json\n",
      "./customData/UCF/Fighting017_x264.json\n",
      "./customData/UCF/Fighting018_x264.json\n",
      "./customData/UCF/Fighting019_x264.json\n",
      "./customData/UCF/Fighting020_x264.json\n",
      "./customData/UCF/Fighting021_x264.json\n",
      "./customData/UCF/Fighting022_x264.json\n",
      "./customData/UCF/Fighting023_x264.json\n",
      "./customData/UCF/Fighting024_x264.json\n",
      "./customData/UCF/Fighting025_x264.json\n",
      "./customData/UCF/Fighting027_x264.json\n",
      "./customData/UCF/Fighting028_x264.json\n",
      "./customData/UCF/Fighting029_x264.json\n",
      "./customData/UCF/Fighting030_x264.json\n",
      "./customData/UCF/Fighting031_x264.json\n",
      "./customData/UCF/Fighting032_x264.json\n",
      "./customData/UCF/Fighting033_x264.json\n",
      "./customData/UCF/Fighting034_x264.json\n",
      "./customData/UCF/Fighting035_x264.json\n",
      "./customData/UCF/Fighting036_x264.json\n",
      "./customData/UCF/Fighting037_x264.json\n",
      "./customData/UCF/Fighting038_x264.json\n",
      "./customData/UCF/Fighting039_x264.json\n",
      "./customData/UCF/Fighting040_x264.json\n",
      "./customData/UCF/Fighting041_x264.json\n",
      "./customData/UCF/Fighting042_x264.json\n",
      "./customData/UCF/Fighting043_x264.json\n",
      "./customData/UCF/Fighting044_x264.json\n",
      "./customData/UCF/Fighting045_x264.json\n",
      "./customData/UCF/Fighting046_x264.json\n",
      "./customData/UCF/Fighting047_x264.json\n",
      "./customData/UCF/Fighting048_x264.json\n",
      "./customData/UCF/Fighting049_x264.json\n",
      "./customData/UCF/Fighting050_x264.json\n",
      "./customData/UCF/Fighting051_x264.json\n"
     ]
    }
   ],
   "metadata": {}
  },
  {
   "cell_type": "code",
   "execution_count": null,
   "source": [],
   "outputs": [],
   "metadata": {}
  }
 ],
 "metadata": {
  "orig_nbformat": 4,
  "language_info": {
   "name": "python",
   "version": "3.7.10",
   "mimetype": "text/x-python",
   "codemirror_mode": {
    "name": "ipython",
    "version": 3
   },
   "pygments_lexer": "ipython3",
   "nbconvert_exporter": "python",
   "file_extension": ".py"
  },
  "kernelspec": {
   "name": "python3",
   "display_name": "Python 3.7.10 64-bit ('st-gcn': conda)"
  },
  "interpreter": {
   "hash": "e469293036e9cb50d023fe5df1cac3782e054affa331d7eac734658039e8e7b3"
  }
 },
 "nbformat": 4,
 "nbformat_minor": 2
}