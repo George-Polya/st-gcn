{
 "cells": [
  {
   "cell_type": "code",
   "execution_count": 1,
   "source": [
    "import json\n",
    "from glob import glob\n",
    "from tqdm import tqdm"
   ],
   "outputs": [],
   "metadata": {}
  },
  {
   "cell_type": "code",
   "execution_count": 7,
   "source": [
    "tests = glob(\"/workspace/fourElse/KimHeeSu/st-gcn/*.json\")\n",
    "temp = tests[0]\n",
    "temp"
   ],
   "outputs": [
    {
     "output_type": "execute_result",
     "data": {
      "text/plain": [
       "'/workspace/fourElse/KimHeeSu/st-gcn/C021_A17_SY15_P07_B08_01DBS_check.json'"
      ]
     },
     "metadata": {},
     "execution_count": 7
    }
   ],
   "metadata": {}
  },
  {
   "cell_type": "code",
   "execution_count": 11,
   "source": [
    "with open(temp ,\"rb\") as f:\n",
    "    json_temp = json.load(f)\n",
    "json_temp[\"data\"][0][\"skeleton\"][0][\"pose\"]"
   ],
   "outputs": [
    {
     "output_type": "execute_result",
     "data": {
      "text/plain": [
       "[0.0,\n",
       " 0.0,\n",
       " 877.502808,\n",
       " 380.112,\n",
       " 948.150146,\n",
       " 380.220673,\n",
       " 974.62085,\n",
       " 503.878204,\n",
       " 918.797607,\n",
       " 544.939697,\n",
       " 803.990051,\n",
       " 380.171448,\n",
       " 792.295776,\n",
       " 483.160919,\n",
       " 842.259766,\n",
       " 542.039917,\n",
       " 924.642029,\n",
       " 600.894897,\n",
       " 907.112854,\n",
       " 765.775818,\n",
       " 907.160217,\n",
       " 927.585999,\n",
       " 833.525818,\n",
       " 600.92334,\n",
       " 839.280396,\n",
       " 762.685059,\n",
       " 851.054993,\n",
       " 909.909546,\n",
       " 0.0,\n",
       " 0.0,\n",
       " 0.0,\n",
       " 0.0,\n",
       " 907.096985,\n",
       " 288.861237,\n",
       " 839.404785,\n",
       " 291.793182]"
      ]
     },
     "metadata": {},
     "execution_count": 11
    }
   ],
   "metadata": {}
  },
  {
   "cell_type": "code",
   "execution_count": null,
   "source": [],
   "outputs": [],
   "metadata": {}
  }
 ],
 "metadata": {
  "orig_nbformat": 4,
  "language_info": {
   "name": "python",
   "version": "3.7.10",
   "mimetype": "text/x-python",
   "codemirror_mode": {
    "name": "ipython",
    "version": 3
   },
   "pygments_lexer": "ipython3",
   "nbconvert_exporter": "python",
   "file_extension": ".py"
  },
  "kernelspec": {
   "name": "python3",
   "display_name": "Python 3.7.10 64-bit ('st-gcn': conda)"
  },
  "interpreter": {
   "hash": "1f98bd61b5c951fa769bbc72dd2fe4bfce9ac5c594b13dc9f6b75a6e5ae1993b"
  }
 },
 "nbformat": 4,
 "nbformat_minor": 2
}