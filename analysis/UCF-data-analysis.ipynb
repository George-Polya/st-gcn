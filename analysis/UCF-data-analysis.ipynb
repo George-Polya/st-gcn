{
 "metadata": {
  "language_info": {
   "codemirror_mode": {
    "name": "ipython",
    "version": 3
   },
   "file_extension": ".py",
   "mimetype": "text/x-python",
   "name": "python",
   "nbconvert_exporter": "python",
   "pygments_lexer": "ipython3",
   "version": "3.7.10"
  },
  "orig_nbformat": 4,
  "kernelspec": {
   "name": "python3",
   "display_name": "Python 3.7.10 64-bit ('st-gcn': conda)"
  },
  "interpreter": {
   "hash": "eb9d498b9ba77637431559cbd4db07353cb5dd582a435ea80db0f1ac91478ca5"
  }
 },
 "nbformat": 4,
 "nbformat_minor": 2,
 "cells": [
  {
   "cell_type": "code",
   "execution_count": 2,
   "metadata": {},
   "outputs": [
    {
     "output_type": "execute_result",
     "data": {
      "text/plain": [
       "'Assault001_x264.json'"
      ]
     },
     "metadata": {},
     "execution_count": 2
    }
   ],
   "source": [
    "import os\n",
    "ucf_path = os.listdir()[2]\n",
    "ucf_path"
   ]
  },
  {
   "cell_type": "code",
   "execution_count": 3,
   "metadata": {},
   "outputs": [],
   "source": [
    "import json\n",
    "\n",
    "with open(ucf_path, \"rb\") as ucfFile:\n",
    "    ucf = json.load(ucfFile)\n",
    "\n"
   ]
  },
  {
   "cell_type": "code",
   "execution_count": 4,
   "metadata": {},
   "outputs": [
    {
     "output_type": "stream",
     "name": "stdout",
     "text": [
      "1452\n1454\n2469\n2471\n2473\n"
     ]
    }
   ],
   "source": [
    "for frame in ucf[\"frames\"]:\n",
    "    if frame[\"objects\"]:\n",
    "        print(frame[\"frame_index\"])\n"
   ]
  },
  {
   "cell_type": "code",
   "execution_count": 5,
   "metadata": {},
   "outputs": [
    {
     "output_type": "execute_result",
     "data": {
      "text/plain": [
       "dict_keys(['keypoints', 'keypoints_angle', 'keypoints_movement', 'keypoints_score', 'person_center', 'person_index'])"
      ]
     },
     "metadata": {},
     "execution_count": 5
    }
   ],
   "source": [
    "ucf[\"frames\"][1452][\"persons\"][0].keys()"
   ]
  },
  {
   "cell_type": "code",
   "execution_count": 6,
   "metadata": {},
   "outputs": [
    {
     "output_type": "execute_result",
     "data": {
      "text/plain": [
       "25"
      ]
     },
     "metadata": {},
     "execution_count": 6
    }
   ],
   "source": [
    "len(ucf[\"frames\"][1452][\"persons\"][0][\"keypoints\"])"
   ]
  },
  {
   "cell_type": "code",
   "execution_count": 7,
   "metadata": {},
   "outputs": [
    {
     "output_type": "execute_result",
     "data": {
      "text/plain": [
       "25"
      ]
     },
     "metadata": {},
     "execution_count": 7
    }
   ],
   "source": [
    "len(ucf[\"frames\"][1452][\"persons\"][0][\"keypoints_movement\"])"
   ]
  },
  {
   "cell_type": "code",
   "execution_count": 8,
   "metadata": {},
   "outputs": [
    {
     "output_type": "execute_result",
     "data": {
      "text/plain": [
       "25"
      ]
     },
     "metadata": {},
     "execution_count": 8
    }
   ],
   "source": [
    "len(ucf[\"frames\"][1452][\"persons\"][0][\"keypoints_score\"])"
   ]
  },
  {
   "cell_type": "code",
   "execution_count": 9,
   "metadata": {},
   "outputs": [
    {
     "output_type": "execute_result",
     "data": {
      "text/plain": [
       "21"
      ]
     },
     "metadata": {},
     "execution_count": 9
    }
   ],
   "source": [
    "len(ucf[\"frames\"][1452][\"persons\"][0][\"person_center\"])"
   ]
  },
  {
   "cell_type": "code",
   "execution_count": 10,
   "metadata": {},
   "outputs": [
    {
     "output_type": "execute_result",
     "data": {
      "text/plain": [
       "['0.000000,0.000000',\n",
       " '0.640198,0.017582',\n",
       " '0.024963,0.012100',\n",
       " '0.007721,0.611046',\n",
       " '-0.011047,1.278732',\n",
       " '1.291870,0.626900',\n",
       " '0.000000,0.000000',\n",
       " '0.000000,0.000000',\n",
       " '1.290314,-0.631294',\n",
       " '-0.010864,-0.022079',\n",
       " '-0.632507,-0.011124',\n",
       " '0.004578,-0.008987',\n",
       " '1.289978,-0.631287',\n",
       " '2.576782,-0.619095',\n",
       " '0.650116,0.022278',\n",
       " '0.000000,0.000000',\n",
       " '0.000000,0.000000',\n",
       " '1.274323,-0.010250',\n",
       " '0.000000,0.000000',\n",
       " '1.954208,-0.623962',\n",
       " '3.885269,-0.638687',\n",
       " '0.651398,0.644066',\n",
       " '0.003204,0.011887',\n",
       " '-1.282196,0.002151',\n",
       " '-0.010986,-0.006073']"
      ]
     },
     "metadata": {},
     "execution_count": 10
    }
   ],
   "source": [
    "ucf[\"frames\"][1452][\"persons\"][0][\"keypoints_movement\"]"
   ]
  },
  {
   "cell_type": "code",
   "execution_count": null,
   "metadata": {},
   "outputs": [],
   "source": []
  },
  {
   "cell_type": "code",
   "execution_count": null,
   "metadata": {},
   "outputs": [],
   "source": []
  }
 ]
}