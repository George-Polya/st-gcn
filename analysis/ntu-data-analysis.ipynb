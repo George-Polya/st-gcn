{
 "metadata": {
  "language_info": {
   "codemirror_mode": {
    "name": "ipython",
    "version": 3
   },
   "file_extension": ".py",
   "mimetype": "text/x-python",
   "name": "python",
   "nbconvert_exporter": "python",
   "pygments_lexer": "ipython3",
   "version": "3.7.10"
  },
  "orig_nbformat": 4,
  "kernelspec": {
   "name": "python3",
   "display_name": "Python 3.7.10 64-bit ('st-gcn': conda)"
  },
  "interpreter": {
   "hash": "eb9d498b9ba77637431559cbd4db07353cb5dd582a435ea80db0f1ac91478ca5"
  }
 },
 "nbformat": 4,
 "nbformat_minor": 2,
 "cells": [
  {
   "cell_type": "code",
   "execution_count": 1,
   "metadata": {},
   "outputs": [
    {
     "output_type": "execute_result",
     "data": {
      "text/plain": [
       "['./NTURGB+d skeleton analysis copy.skeleton',\n",
       " './NTURGB+d skeleton analysis.skeleton',\n",
       " './S001C001P001R001A002.skeleton']"
      ]
     },
     "metadata": {},
     "execution_count": 1
    }
   ],
   "source": [
    "import os\n",
    "\n",
    "from glob import glob\n",
    "ntu_path = glob(\"./*.skeleton\")\n",
    "ntu_path\n"
   ]
  },
  {
   "cell_type": "code",
   "execution_count": 2,
   "metadata": {},
   "outputs": [],
   "source": [
    "ntu_path = ntu_path[2]"
   ]
  },
  {
   "cell_type": "code",
   "execution_count": 3,
   "metadata": {},
   "outputs": [],
   "source": [
    "import pickle\n",
    "import sys\n",
    "# with open(ntu_path, \"r\") as f:\n",
    "#     ntu = [line.strip() for line in f.readlines()]\n"
   ]
  },
  {
   "cell_type": "code",
   "execution_count": 4,
   "metadata": {},
   "outputs": [],
   "source": [
    "from ntu_read_skeleton import read_skeleton"
   ]
  },
  {
   "cell_type": "code",
   "execution_count": 5,
   "metadata": {},
   "outputs": [],
   "source": [
    "skeleton_sequence = read_skeleton(ntu_path)"
   ]
  },
  {
   "cell_type": "code",
   "execution_count": 7,
   "metadata": {},
   "outputs": [
    {
     "output_type": "execute_result",
     "data": {
      "text/plain": [
       "dict_keys(['numFrame', 'frameInfo'])"
      ]
     },
     "metadata": {},
     "execution_count": 7
    }
   ],
   "source": [
    "skeleton_sequence.keys()"
   ]
  },
  {
   "cell_type": "code",
   "execution_count": 10,
   "metadata": {},
   "outputs": [
    {
     "output_type": "execute_result",
     "data": {
      "text/plain": [
       "158"
      ]
     },
     "metadata": {},
     "execution_count": 10
    }
   ],
   "source": [
    "len(skeleton_sequence[\"frameInfo\"])"
   ]
  },
  {
   "cell_type": "code",
   "execution_count": 12,
   "metadata": {},
   "outputs": [
    {
     "output_type": "execute_result",
     "data": {
      "text/plain": [
       "1"
      ]
     },
     "metadata": {},
     "execution_count": 12
    }
   ],
   "source": [
    "len(skeleton_sequence[\"frameInfo\"][0][\"bodyInfo\"])"
   ]
  },
  {
   "cell_type": "code",
   "execution_count": 16,
   "metadata": {},
   "outputs": [
    {
     "output_type": "execute_result",
     "data": {
      "text/plain": [
       "25"
      ]
     },
     "metadata": {},
     "execution_count": 16
    }
   ],
   "source": [
    "len(skeleton_sequence[\"frameInfo\"][0][\"bodyInfo\"][0][\"jointInfo\"])"
   ]
  },
  {
   "cell_type": "code",
   "execution_count": 20,
   "metadata": {},
   "outputs": [
    {
     "output_type": "execute_result",
     "data": {
      "text/plain": [
       "{'bodyID': 7.205759403793112e+16,\n",
       " 'clipedEdges': 0.0,\n",
       " 'handLeftConfidence': 1.0,\n",
       " 'handLeftState': 1.0,\n",
       " 'handRightConfidence': 1.0,\n",
       " 'handRightState': 1.0,\n",
       " 'isResticted': 0.0,\n",
       " 'leanX': 0.1369749,\n",
       " 'leanY': 0.09727141,\n",
       " 'trackingState': 2.0,\n",
       " 'numJoint': 25,\n",
       " 'jointInfo': [{'x': 0.2627046,\n",
       "   'y': 0.1946897,\n",
       "   'z': 3.828281,\n",
       "   'depthX': 281.4475,\n",
       "   'depthY': 189.8944,\n",
       "   'colorX': 1047.71,\n",
       "   'colorY': 513.6422,\n",
       "   'orientationW': -0.1907044,\n",
       "   'orientationX': 0.05180078,\n",
       "   'orientationY': 0.971495,\n",
       "   'orientationZ': -0.1309424,\n",
       "   'trackingState': 2.0},\n",
       "  {'x': 0.2762299,\n",
       "   'y': 0.4508519,\n",
       "   'z': 3.755147,\n",
       "   'depthX': 283.2829,\n",
       "   'depthY': 164.5336,\n",
       "   'colorX': 1053.409,\n",
       "   'colorY': 440.5612,\n",
       "   'orientationW': -0.2231275,\n",
       "   'orientationX': 0.05615628,\n",
       "   'orientationY': 0.9645646,\n",
       "   'orientationZ': -0.1291344,\n",
       "   'trackingState': 2.0},\n",
       "  {'x': 0.2888855,\n",
       "   'y': 0.7024599,\n",
       "   'z': 3.672879,\n",
       "   'depthX': 285.1987,\n",
       "   'depthY': 138.3419,\n",
       "   'colorX': 1059.325,\n",
       "   'colorY': 365.3107,\n",
       "   'orientationW': -0.2558285,\n",
       "   'orientationX': 0.06700236,\n",
       "   'orientationY': 0.9510576,\n",
       "   'orientationZ': -0.1598495,\n",
       "   'trackingState': 2.0},\n",
       "  {'x': 0.2532708,\n",
       "   'y': 0.8081678,\n",
       "   'z': 3.636431,\n",
       "   'depthX': 281.9153,\n",
       "   'depthY': 126.9125,\n",
       "   'colorX': 1050.043,\n",
       "   'colorY': 332.4908,\n",
       "   'orientationW': 0.0,\n",
       "   'orientationX': 0.0,\n",
       "   'orientationY': 0.0,\n",
       "   'orientationZ': 0.0,\n",
       "   'trackingState': 2.0},\n",
       "  {'x': 0.1551508,\n",
       "   'y': 0.6297864,\n",
       "   'z': 3.756842,\n",
       "   'depthX': 271.4819,\n",
       "   'depthY': 147.0645,\n",
       "   'colorX': 1019.434,\n",
       "   'colorY': 390.1779,\n",
       "   'orientationW': 0.22527,\n",
       "   'orientationX': 0.7283481,\n",
       "   'orientationY': -0.6427137,\n",
       "   'orientationZ': -0.07537539,\n",
       "   'trackingState': 2.0},\n",
       "  {'x': 0.1409192,\n",
       "   'y': 0.3815989,\n",
       "   'z': 3.598573,\n",
       "   'depthX': 270.6782,\n",
       "   'depthY': 169.6906,\n",
       "   'colorX': 1017.666,\n",
       "   'colorY': 455.274,\n",
       "   'orientationW': -0.2808799,\n",
       "   'orientationX': 0.9542913,\n",
       "   'orientationY': 0.004731524,\n",
       "   'orientationZ': -0.1020406,\n",
       "   'trackingState': 2.0},\n",
       "  {'x': 0.3079114,\n",
       "   'y': 0.2899109,\n",
       "   'z': 3.498706,\n",
       "   'depthX': 288.5586,\n",
       "   'depthY': 178.1681,\n",
       "   'colorX': 1069.669,\n",
       "   'colorY': 479.8975,\n",
       "   'orientationW': -0.3172766,\n",
       "   'orientationX': 0.8406613,\n",
       "   'orientationY': 0.431513,\n",
       "   'orientationZ': 0.0801293,\n",
       "   'trackingState': 2.0},\n",
       "  {'x': 0.3637164,\n",
       "   'y': 0.2596984,\n",
       "   'z': 3.468764,\n",
       "   'depthX': 294.7312,\n",
       "   'depthY': 181.0894,\n",
       "   'colorX': 1087.589,\n",
       "   'colorY': 488.3869,\n",
       "   'orientationW': -0.301544,\n",
       "   'orientationX': 0.8408072,\n",
       "   'orientationY': 0.4402091,\n",
       "   'orientationZ': 0.0912718,\n",
       "   'trackingState': 2.0},\n",
       "  {'x': 0.3853285,\n",
       "   'y': 0.590723,\n",
       "   'z': 3.626849,\n",
       "   'depthX': 295.3047,\n",
       "   'depthY': 148.7735,\n",
       "   'colorX': 1088.601,\n",
       "   'colorY': 395.4055,\n",
       "   'orientationW': -0.1149617,\n",
       "   'orientationX': 0.7667301,\n",
       "   'orientationY': 0.5449317,\n",
       "   'orientationZ': -0.3193091,\n",
       "   'trackingState': 2.0},\n",
       "  {'x': 0.4450153,\n",
       "   'y': 0.3913898,\n",
       "   'z': 3.65751,\n",
       "   'depthX': 300.9225,\n",
       "   'depthY': 169.2924,\n",
       "   'colorX': 1104.616,\n",
       "   'colorY': 454.485,\n",
       "   'orientationW': 0.02410943,\n",
       "   'orientationX': 0.9352435,\n",
       "   'orientationY': 0.1598359,\n",
       "   'orientationZ': 0.3149457,\n",
       "   'trackingState': 2.0},\n",
       "  {'x': 0.2919644,\n",
       "   'y': 0.2961859,\n",
       "   'z': 3.536786,\n",
       "   'depthX': 286.5595,\n",
       "   'depthY': 177.8473,\n",
       "   'colorX': 1063.733,\n",
       "   'colorY': 478.9508,\n",
       "   'orientationW': -0.280163,\n",
       "   'orientationX': 0.8430129,\n",
       "   'orientationY': -0.4495365,\n",
       "   'orientationZ': 0.09356724,\n",
       "   'trackingState': 2.0},\n",
       "  {'x': 0.2302651,\n",
       "   'y': 0.31667,\n",
       "   'z': 3.52372,\n",
       "   'depthX': 280.2604,\n",
       "   'depthY': 175.6104,\n",
       "   'colorX': 1045.629,\n",
       "   'colorY': 472.4346,\n",
       "   'orientationW': 0.2132043,\n",
       "   'orientationX': -0.5868414,\n",
       "   'orientationY': 0.7803842,\n",
       "   'orientationZ': 0.03408273,\n",
       "   'trackingState': 1.0},\n",
       "  {'x': 0.2065216,\n",
       "   'y': 0.1960387,\n",
       "   'z': 3.820392,\n",
       "   'depthX': 276.1173,\n",
       "   'depthY': 189.7298,\n",
       "   'colorX': 1032.351,\n",
       "   'colorY': 513.118,\n",
       "   'orientationW': -0.05104291,\n",
       "   'orientationX': -0.6831706,\n",
       "   'orientationY': 0.7136386,\n",
       "   'orientationZ': -0.1462614,\n",
       "   'trackingState': 2.0},\n",
       "  {'x': 0.2346475,\n",
       "   'y': -0.1073559,\n",
       "   'z': 3.944435,\n",
       "   'depthX': 278.1008,\n",
       "   'depthY': 218.4478,\n",
       "   'colorX': 1037.403,\n",
       "   'colorY': 596.0452,\n",
       "   'orientationW': -0.1414953,\n",
       "   'orientationX': -0.535082,\n",
       "   'orientationY': 0.1373359,\n",
       "   'orientationZ': 0.8214652,\n",
       "   'trackingState': 2.0},\n",
       "  {'x': 0.2835564,\n",
       "   'y': -0.4177579,\n",
       "   'z': 4.095453,\n",
       "   'depthX': 281.6899,\n",
       "   'depthY': 245.8311,\n",
       "   'colorX': 1046.964,\n",
       "   'colorY': 675.0498,\n",
       "   'orientationW': 0.2152601,\n",
       "   'orientationX': 0.7322931,\n",
       "   'orientationY': -0.09218682,\n",
       "   'orientationZ': -0.639462,\n",
       "   'trackingState': 2.0},\n",
       "  {'x': 0.3027443,\n",
       "   'y': -0.4967194,\n",
       "   'z': 4.060287,\n",
       "   'depthX': 283.6513,\n",
       "   'depthY': 253.2925,\n",
       "   'colorX': 1052.653,\n",
       "   'colorY': 696.5432,\n",
       "   'orientationW': 0.0,\n",
       "   'orientationX': 0.0,\n",
       "   'orientationY': 0.0,\n",
       "   'orientationZ': 0.0,\n",
       "   'trackingState': 2.0},\n",
       "  {'x': 0.3149242,\n",
       "   'y': 0.1904155,\n",
       "   'z': 3.775095,\n",
       "   'depthX': 286.8667,\n",
       "   'depthY': 190.0428,\n",
       "   'colorX': 1063.555,\n",
       "   'colorY': 514.122,\n",
       "   'orientationW': -0.2128293,\n",
       "   'orientationX': 0.6451094,\n",
       "   'orientationY': 0.6527474,\n",
       "   'orientationZ': -0.3353482,\n",
       "   'trackingState': 2.0},\n",
       "  {'x': 0.360273,\n",
       "   'y': -0.124824,\n",
       "   'z': 3.873059,\n",
       "   'depthX': 290.3788,\n",
       "   'depthY': 220.2861,\n",
       "   'colorX': 1073.087,\n",
       "   'colorY': 601.4254,\n",
       "   'orientationW': 0.08764432,\n",
       "   'orientationX': 0.8281927,\n",
       "   'orientationY': 0.138871,\n",
       "   'orientationZ': 0.5358455,\n",
       "   'trackingState': 2.0},\n",
       "  {'x': 0.379824,\n",
       "   'y': -0.4266101,\n",
       "   'z': 4.031297,\n",
       "   'depthX': 290.8479,\n",
       "   'depthY': 247.2449,\n",
       "   'colorX': 1073.576,\n",
       "   'colorY': 679.1491,\n",
       "   'orientationW': 0.2291272,\n",
       "   'orientationX': 0.953576,\n",
       "   'orientationY': 0.07354193,\n",
       "   'orientationZ': 0.1810665,\n",
       "   'trackingState': 2.0},\n",
       "  {'x': 0.3430154,\n",
       "   'y': -0.4866492,\n",
       "   'z': 4.046878,\n",
       "   'depthX': 287.3886,\n",
       "   'depthY': 252.5338,\n",
       "   'colorX': 1063.484,\n",
       "   'colorY': 694.3685,\n",
       "   'orientationW': 0.0,\n",
       "   'orientationX': 0.0,\n",
       "   'orientationY': 0.0,\n",
       "   'orientationZ': 0.0,\n",
       "   'trackingState': 2.0},\n",
       "  {'x': 0.2858644,\n",
       "   'y': 0.6402671,\n",
       "   'z': 3.695266,\n",
       "   'depthX': 284.7101,\n",
       "   'depthY': 144.9716,\n",
       "   'colorX': 1057.815,\n",
       "   'colorY': 384.334,\n",
       "   'orientationW': -0.2561788,\n",
       "   'orientationX': 0.06318183,\n",
       "   'orientationY': 0.954231,\n",
       "   'orientationZ': -0.1407968,\n",
       "   'trackingState': 2.0},\n",
       "  {'x': 0.3690399,\n",
       "   'y': 0.2620759,\n",
       "   'z': 3.457524,\n",
       "   'depthX': 295.4214,\n",
       "   'depthY': 180.7474,\n",
       "   'colorX': 1089.631,\n",
       "   'colorY': 487.4088,\n",
       "   'orientationW': 0.0,\n",
       "   'orientationX': 0.0,\n",
       "   'orientationY': 0.0,\n",
       "   'orientationZ': 0.0,\n",
       "   'trackingState': 1.0},\n",
       "  {'x': 0.3629896,\n",
       "   'y': 0.2639313,\n",
       "   'z': 3.440942,\n",
       "   'depthX': 294.9656,\n",
       "   'depthY': 180.4166,\n",
       "   'colorX': 1088.398,\n",
       "   'colorY': 486.4503,\n",
       "   'orientationW': 0.0,\n",
       "   'orientationX': 0.0,\n",
       "   'orientationY': 0.0,\n",
       "   'orientationZ': 0.0,\n",
       "   'trackingState': 1.0},\n",
       "  {'x': 0.1983088,\n",
       "   'y': 0.3111268,\n",
       "   'z': 3.52541,\n",
       "   'depthX': 276.9294,\n",
       "   'depthY': 176.2054,\n",
       "   'colorX': 1036.005,\n",
       "   'colorY': 474.1149,\n",
       "   'orientationW': 0.0,\n",
       "   'orientationX': 0.0,\n",
       "   'orientationY': 0.0,\n",
       "   'orientationZ': 0.0,\n",
       "   'trackingState': 2.0},\n",
       "  {'x': 0.2436822,\n",
       "   'y': 0.3125684,\n",
       "   'z': 3.488444,\n",
       "   'depthX': 281.9108,\n",
       "   'depthY': 175.7065,\n",
       "   'colorX': 1050.552,\n",
       "   'colorY': 472.7294,\n",
       "   'orientationW': 0.0,\n",
       "   'orientationX': 0.0,\n",
       "   'orientationY': 0.0,\n",
       "   'orientationZ': 0.0,\n",
       "   'trackingState': 2.0}]}"
      ]
     },
     "metadata": {},
     "execution_count": 20
    }
   ],
   "source": [
    "skeleton_sequence[\"frameInfo\"][0][\"bodyInfo\"][0]"
   ]
  },
  {
   "cell_type": "code",
   "execution_count": null,
   "metadata": {},
   "outputs": [],
   "source": []
  }
 ]
}