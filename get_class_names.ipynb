{
 "cells": [
  {
   "cell_type": "code",
   "execution_count": 1,
   "source": [
    "import os\n",
    "from glob import glob\n",
    "\n",
    "import json"
   ],
   "outputs": [],
   "metadata": {}
  },
  {
   "cell_type": "code",
   "execution_count": 2,
   "source": [
    "# import copy"
   ],
   "outputs": [],
   "metadata": {}
  },
  {
   "cell_type": "code",
   "execution_count": 4,
   "source": [
    "paths = glob(\"./allConvertedData/*.json\")\n",
    "len(paths)"
   ],
   "outputs": [
    {
     "output_type": "execute_result",
     "data": {
      "text/plain": [
       "501"
      ]
     },
     "metadata": {},
     "execution_count": 4
    }
   ],
   "metadata": {}
  },
  {
   "cell_type": "code",
   "execution_count": null,
   "source": [],
   "outputs": [],
   "metadata": {}
  },
  {
   "cell_type": "code",
   "execution_count": 5,
   "source": [
    "class_names = set()\n",
    "for path in paths:\n",
    "    with open(path, \"rb\") as f:\n",
    "        temp_json = json.load(f)\n",
    "\n",
    "    class_names.add(temp_json[\"label\"])\n",
    "class_names_dict = {idx: class_name for class_name, idx in enumerate(class_names)}"
   ],
   "outputs": [],
   "metadata": {}
  },
  {
   "cell_type": "code",
   "execution_count": 6,
   "source": [
    "class_names_dict"
   ],
   "outputs": [
    {
     "output_type": "execute_result",
     "data": {
      "text/plain": [
       "{'swoon': 0,\n",
       " 'trespass': 1,\n",
       " 'kidnap': 2,\n",
       " 'robbery': 3,\n",
       " 'shoplifting': 4,\n",
       " 'vandalism': 5,\n",
       " 'dump': 6,\n",
       " 'burglary': 7,\n",
       " 'stealing': 8,\n",
       " 'fight': 9,\n",
       " 'datefight': 10,\n",
       " 'wander': 11,\n",
       " 'drunken': 12,\n",
       " 'assault': 13}"
      ]
     },
     "metadata": {},
     "execution_count": 6
    }
   ],
   "metadata": {}
  },
  {
   "cell_type": "code",
   "execution_count": 7,
   "source": [
    "class_names = list(class_names)\n",
    "class_names"
   ],
   "outputs": [
    {
     "output_type": "execute_result",
     "data": {
      "text/plain": [
       "['swoon',\n",
       " 'trespass',\n",
       " 'kidnap',\n",
       " 'robbery',\n",
       " 'shoplifting',\n",
       " 'vandalism',\n",
       " 'dump',\n",
       " 'burglary',\n",
       " 'stealing',\n",
       " 'fight',\n",
       " 'datefight',\n",
       " 'wander',\n",
       " 'drunken',\n",
       " 'assault']"
      ]
     },
     "metadata": {},
     "execution_count": 7
    }
   ],
   "metadata": {}
  },
  {
   "cell_type": "code",
   "execution_count": null,
   "source": [
    "class_names_dict = {idx: class_name for class_name, idx in enumerate(class_names)}"
   ],
   "outputs": [],
   "metadata": {}
  },
  {
   "cell_type": "code",
   "execution_count": null,
   "source": [
    "class_names_dict"
   ],
   "outputs": [],
   "metadata": {}
  },
  {
   "cell_type": "code",
   "execution_count": null,
   "source": [
    "for path in paths:\n",
    "    with open(path, \"rb\") as f:\n",
    "        temp_json = json.load(f)\n",
    "\n",
    "    temp_json[\"label_index\"] = class_names_dict[temp_json[\"label\"]]\n",
    "    with open(path, \"w\") as f:\n",
    "        json.dump(temp_json,f, indent=2)"
   ],
   "outputs": [],
   "metadata": {}
  },
  {
   "cell_type": "code",
   "execution_count": null,
   "source": [],
   "outputs": [],
   "metadata": {}
  }
 ],
 "metadata": {
  "orig_nbformat": 4,
  "language_info": {
   "name": "python",
   "version": "3.7.10",
   "mimetype": "text/x-python",
   "codemirror_mode": {
    "name": "ipython",
    "version": 3
   },
   "pygments_lexer": "ipython3",
   "nbconvert_exporter": "python",
   "file_extension": ".py"
  },
  "kernelspec": {
   "name": "python3",
   "display_name": "Python 3.7.10 64-bit ('st-gcn': conda)"
  },
  "interpreter": {
   "hash": "1f98bd61b5c951fa769bbc72dd2fe4bfce9ac5c594b13dc9f6b75a6e5ae1993b"
  }
 },
 "nbformat": 4,
 "nbformat_minor": 2
}