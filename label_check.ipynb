{
 "cells": [
  {
   "cell_type": "code",
   "execution_count": 3,
   "source": [
    "import pickle\n",
    "import os\n",
    "from glob import glob"
   ],
   "outputs": [],
   "metadata": {}
  },
  {
   "cell_type": "code",
   "execution_count": 5,
   "source": [
    "val_label_dict = dict()\n",
    "train_label_dict = dict()"
   ],
   "outputs": [],
   "metadata": {}
  },
  {
   "cell_type": "code",
   "execution_count": 6,
   "source": [
    "train_paths = glob(\"./customData/all/train/*.json\")\n",
    "test_paths = glob(\"./customData/all/val/*.json\")"
   ],
   "outputs": [],
   "metadata": {}
  },
  {
   "cell_type": "code",
   "execution_count": 8,
   "source": [
    "import json\n",
    "for path in train_paths:\n",
    "    filename = os.path.basename(path)\n",
    "    with open(path, \"r\") as f:\n",
    "        json_file = json.load(f)\n",
    "\n",
    "    train_label_dict[\"{}\".format(filename)] = {\n",
    "        \"has_skeleton\":True,\n",
    "        \"label\":json_file[\"label\"],\n",
    "        \"label_index\":json_file[\"label_index\"]\n",
    "    }"
   ],
   "outputs": [],
   "metadata": {}
  },
  {
   "cell_type": "code",
   "execution_count": 9,
   "source": [
    "output_path = \"./customData/all/\"\n",
    "\n",
    "with open(output_path+\"train_label.json\",\"w\") as f:\n",
    "    json.dump(train_label_dict,f,indent=2)"
   ],
   "outputs": [],
   "metadata": {}
  },
  {
   "cell_type": "code",
   "execution_count": 10,
   "source": [
    "for path in test_paths:\n",
    "    filename = os.path.basename(path)\n",
    "    with open(path, \"r\") as f:\n",
    "        json_file = json.load(f)\n",
    "\n",
    "    val_label_dict[\"{}\".format(filename)] = {\n",
    "        \"has_skeleton\":True,\n",
    "        \"label\":json_file[\"label\"],\n",
    "        \"label_index\":json_file[\"label_index\"]\n",
    "    }"
   ],
   "outputs": [],
   "metadata": {}
  },
  {
   "cell_type": "code",
   "execution_count": 11,
   "source": [
    "with open(output_path+\"val_label.json\",\"w\") as f:\n",
    "    json.dump(val_label_dict,f,indent=2)"
   ],
   "outputs": [],
   "metadata": {}
  },
  {
   "cell_type": "code",
   "execution_count": null,
   "source": [],
   "outputs": [],
   "metadata": {}
  }
 ],
 "metadata": {
  "orig_nbformat": 4,
  "language_info": {
   "name": "python",
   "version": "3.7.10",
   "mimetype": "text/x-python",
   "codemirror_mode": {
    "name": "ipython",
    "version": 3
   },
   "pygments_lexer": "ipython3",
   "nbconvert_exporter": "python",
   "file_extension": ".py"
  },
  "kernelspec": {
   "name": "python3",
   "display_name": "Python 3.7.10 64-bit ('st-gcn': conda)"
  },
  "interpreter": {
   "hash": "1f98bd61b5c951fa769bbc72dd2fe4bfce9ac5c594b13dc9f6b75a6e5ae1993b"
  }
 },
 "nbformat": 4,
 "nbformat_minor": 2
}