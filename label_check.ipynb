{
 "cells": [
  {
   "cell_type": "code",
   "execution_count": 1,
   "source": [
    "import pickle\n",
    "import os\n",
    "from glob import glob\n",
    "from tqdm import tqdm"
   ],
   "outputs": [],
   "metadata": {}
  },
  {
   "cell_type": "code",
   "execution_count": 2,
   "source": [
    "val_label_dict = dict()\n",
    "train_label_dict = dict()"
   ],
   "outputs": [],
   "metadata": {}
  },
  {
   "cell_type": "code",
   "execution_count": 3,
   "source": [
    "train_paths = glob(\"./two/train/*.json\")\n",
    "test_paths = glob(\"./two/val/*.json\")"
   ],
   "outputs": [],
   "metadata": {}
  },
  {
   "cell_type": "code",
   "execution_count": 4,
   "source": [
    "train_paths"
   ],
   "outputs": [
    {
     "output_type": "execute_result",
     "data": {
      "text/plain": [
       "['./two/train/Stealing062_x264.json',\n",
       " './two/train/Stealing050_x264.json',\n",
       " './two/train/Stealing015_x264.json',\n",
       " './two/train/C021_A21_SY16_P07_B08_01DAS_check.json',\n",
       " './two/train/C021_A19_SY17_P07_B09_01DBS_check.json',\n",
       " './two/train/Stealing074_x264.json',\n",
       " './two/train/C021_A20_SY17_P07_B09_02DBS_check.json',\n",
       " './two/train/C021_A20_SY15_P07_B09_01DBS_check.json',\n",
       " './two/train/Stealing098_x264.json',\n",
       " './two/train/C021_A18_SY16_P07_B08_01DBS_check.json',\n",
       " './two/train/C021_A18_SY16_P07_B10_01DBS_check.json',\n",
       " './two/train/C021_A17_SY17_P07_B10_01DAS_check.json',\n",
       " './two/train/C021_A20_SY15_P07_B09_02DBS_check.json',\n",
       " './two/train/C021_A21_SY16_P07_B10_01DAS_check.json',\n",
       " './two/train/Stealing109_x264.json',\n",
       " './two/train/C021_A19_SY17_P07_B08_01DAS_check.json',\n",
       " './two/train/Stealing003_x264.json',\n",
       " './two/train/Stealing063_x264.json',\n",
       " './two/train/C021_A21_SY16_P07_B09_01DBS_check.json',\n",
       " './two/train/Stealing031_x264.json',\n",
       " './two/train/Stealing045_x264.json',\n",
       " './two/train/58-1_cam01_burglary01_place02_day_spring.json',\n",
       " './two/train/C021_A17_SY17_P07_B09_01DAS_check.json',\n",
       " './two/train/C021_A20_SY17_P07_B10_01DBS_check.json',\n",
       " './two/train/C021_A19_SY16_P07_B10_01DBS_check.json',\n",
       " './two/train/Stealing094_x264.json',\n",
       " './two/train/C021_A18_SY16_P07_B09_03DBS_check.json',\n",
       " './two/train/Stealing079_x264.json',\n",
       " './two/train/C021_A21_SY15_P07_B08_01DAS_check.json',\n",
       " './two/train/Stealing114_x264.json',\n",
       " './two/train/C021_A18_SY17_P07_B09_03DAS_check.json',\n",
       " './two/train/Stealing002_x264.json',\n",
       " './two/train/Stealing073_x264.json',\n",
       " './two/train/Stealing054_x264.json',\n",
       " './two/train/Stealing051_x264.json',\n",
       " './two/train/Stealing112_x264.json',\n",
       " './two/train/C021_A18_SY15_P07_B09_01DBS_check.json',\n",
       " './two/train/56-3_cam01_burglary02_place03_day_spring.json',\n",
       " './two/train/Stealing032_x264.json',\n",
       " './two/train/Stealing077_x264.json',\n",
       " './two/train/C021_A20_SY17_P07_B08_01DBS_check.json',\n",
       " './two/train/C021_A18_SY16_P07_B08_03DBS_check.json',\n",
       " './two/train/Stealing055_x264.json',\n",
       " './two/train/C021_A17_SY16_P07_B09_01DAS_check.json',\n",
       " './two/train/C021_A20_SY16_P07_B08_01DAS_check.json',\n",
       " './two/train/C021_A17_SY17_P07_B08_01DBS_check.json',\n",
       " './two/train/C021_A18_SY17_P07_B09_01DBS_check.json',\n",
       " './two/train/C021_A18_SY17_P07_B09_03DBS_check.json',\n",
       " './two/train/Stealing093_x264.json',\n",
       " './two/train/Stealing066_x264.json',\n",
       " './two/train/C021_A18_SY15_P07_B08_02DBS_check.json',\n",
       " './two/train/Stealing060_x264.json',\n",
       " './two/train/54-1_cam01_burglary01_place01_day_spring.json',\n",
       " './two/train/C021_A17_SY16_P07_B09_01DBS_check.json',\n",
       " './two/train/Stealing012_x264.json',\n",
       " './two/train/Stealing082_x264.json',\n",
       " './two/train/Stealing058_x264.json',\n",
       " './two/train/Stealing036_x264.json',\n",
       " './two/train/C021_A18_SY15_P07_B08_02DAS_check.json',\n",
       " './two/train/Stealing091_x264.json',\n",
       " './two/train/C021_A19_SY15_P07_B08_02DAS_check.json',\n",
       " './two/train/C021_A19_SY16_P07_B09_01DBS_check.json',\n",
       " './two/train/Stealing075_x264.json',\n",
       " './two/train/C021_A18_SY17_P07_B08_02DBS_check.json',\n",
       " './two/train/C021_A18_SY17_P07_B10_02DAS_check.json',\n",
       " './two/train/Stealing108_x264.json',\n",
       " './two/train/Stealing067_x264.json',\n",
       " './two/train/C021_A21_SY15_P07_B10_01DAS_check.json',\n",
       " './two/train/C021_A20_SY16_P07_B10_01DBS_check.json',\n",
       " './two/train/C021_A17_SY15_P07_B09_01DAS_check.json',\n",
       " './two/train/C021_A20_SY15_P07_B08_02DBS_check.json',\n",
       " './two/train/Stealing025_x264.json',\n",
       " './two/train/Stealing110_x264.json',\n",
       " './two/train/C021_A20_SY15_P07_B10_01DBS_check.json',\n",
       " './two/train/C021_A18_SY16_P07_B09_03DAS_check.json',\n",
       " './two/train/C021_A18_SY16_P07_B09_01DBS_check.json',\n",
       " './two/train/Stealing080_x264.json',\n",
       " './two/train/Stealing081_x264.json',\n",
       " './two/train/C021_A20_SY17_P07_B08_01DAS_check.json',\n",
       " './two/train/C021_A18_SY15_P07_B08_03DBS_check.json',\n",
       " './two/train/C021_A18_SY17_P07_B09_02DAS_check.json',\n",
       " './two/train/Stealing053_x264.json',\n",
       " './two/train/C021_A18_SY17_P07_B08_02DAS_check.json',\n",
       " './two/train/C021_A18_SY17_P07_B09_01DAS_check.json',\n",
       " './two/train/C021_A18_SY16_P07_B10_02DAS_check.json',\n",
       " './two/train/C021_A20_SY15_P07_B09_02DAS_check.json',\n",
       " './two/train/C021_A18_SY16_P07_B09_02DAS_check.json',\n",
       " './two/train/Stealing044_x264.json',\n",
       " './two/train/C021_A18_SY16_P07_B08_01DAS_check.json',\n",
       " './two/train/C021_A18_SY16_P07_B08_02DAS_check.json',\n",
       " './two/train/C021_A18_SY15_P07_B10_02DBS_check.json',\n",
       " './two/train/C021_A18_SY17_P07_B10_01DAS_check.json',\n",
       " './two/train/C021_A17_SY15_P07_B10_01DAS_check.json',\n",
       " './two/train/C021_A21_SY16_P07_B09_02DAS_check.json',\n",
       " './two/train/C021_A18_SY15_P07_B08_03DAS_check.json',\n",
       " './two/train/Stealing104_x264.json',\n",
       " './two/train/C021_A20_SY17_P07_B10_02DAS_check.json',\n",
       " './two/train/Stealing103_x264.json',\n",
       " './two/train/C021_A17_SY17_P07_B08_01DAS_check.json',\n",
       " './two/train/Stealing020_x264.json',\n",
       " './two/train/C021_A21_SY16_P07_B09_01DAS_check.json',\n",
       " './two/train/C021_A18_SY15_P07_B09_03DAS_check.json',\n",
       " './two/train/C021_A17_SY16_P07_B08_01DBS_check.json',\n",
       " './two/train/Stealing101_x264.json',\n",
       " './two/train/Stealing068_x264.json',\n",
       " './two/train/C021_A21_SY16_P07_B08_02DBS_check.json',\n",
       " './two/train/Stealing026_x264.json',\n",
       " './two/train/Stealing089_x264.json',\n",
       " './two/train/Stealing029_x264.json',\n",
       " './two/train/C021_A21_SY17_P07_B10_01DBS_check.json',\n",
       " './two/train/Stealing107_x264.json',\n",
       " './two/train/Stealing072_x264.json',\n",
       " './two/train/Stealing023_x264.json',\n",
       " './two/train/C021_A18_SY15_P07_B10_01DAS_check.json',\n",
       " './two/train/C021_A21_SY16_P07_B10_02DAS_check.json',\n",
       " './two/train/Stealing009_x264.json',\n",
       " './two/train/C021_A19_SY15_P07_B08_02DBS_check.json',\n",
       " './two/train/Stealing013_x264.json',\n",
       " './two/train/C021_A18_SY17_P07_B10_01DBS_check.json',\n",
       " './two/train/C021_A19_SY15_P07_B09_02DAS_check.json',\n",
       " './two/train/C021_A21_SY16_P07_B10_02DBS_check.json',\n",
       " './two/train/70-1_cam01_burglary02_place02_night_spring.json',\n",
       " './two/train/C021_A21_SY17_P07_B08_01DAS_check.json',\n",
       " './two/train/67-1_cam01_burglary01_place10_night_spring.json',\n",
       " './two/train/C021_A17_SY15_P07_B08_01DBS_check.json',\n",
       " './two/train/C021_A20_SY15_P07_B08_01DAS_check.json',\n",
       " './two/train/C021_A20_SY15_P07_B08_01DBS_check.json',\n",
       " './two/train/C021_A20_SY17_P07_B09_01DBS_check.json',\n",
       " './two/train/C021_A19_SY15_P07_B10_02DBS_check.json',\n",
       " './two/train/C021_A18_SY17_P07_B08_03DAS_check.json',\n",
       " './two/train/Stealing043_x264.json',\n",
       " './two/train/C021_A17_SY17_P07_B09_01DBS_check.json',\n",
       " './two/train/57-1_cam01_burglary01_place04_day_spring.json',\n",
       " './two/train/C021_A17_SY16_P07_B10_01DBS_check.json',\n",
       " './two/train/Stealing095_x264.json',\n",
       " './two/train/C021_A19_SY16_P07_B10_01DAS_check.json',\n",
       " './two/train/C021_A20_SY17_P07_B09_01DAS_check.json',\n",
       " './two/train/C021_A21_SY15_P07_B09_01DBS_check.json',\n",
       " './two/train/C021_A18_SY15_P07_B09_03DBS_check.json',\n",
       " './two/train/Stealing065_x264.json',\n",
       " './two/train/Stealing027_x264.json',\n",
       " './two/train/C021_A19_SY16_P07_B09_01DAS_check.json',\n",
       " './two/train/C021_A18_SY17_P07_B10_03DAS_check.json',\n",
       " './two/train/C021_A18_SY15_P07_B08_01DBS_check.json',\n",
       " './two/train/Stealing106_x264.json',\n",
       " './two/train/Stealing070_x264.json',\n",
       " './two/train/Stealing028_x264.json',\n",
       " './two/train/C021_A20_SY17_P07_B09_02DAS_check.json',\n",
       " './two/train/C021_A18_SY17_P07_B10_02DBS_check.json',\n",
       " './two/train/C021_A21_SY15_P07_B09_01DAS_check.json',\n",
       " './two/train/Stealing021_x264.json',\n",
       " './two/train/C021_A20_SY17_P07_B10_01DAS_check.json',\n",
       " './two/train/C021_A21_SY17_P07_B09_01DBS_check.json',\n",
       " './two/train/C021_A21_SY16_P07_B08_01DBS_check.json',\n",
       " './two/train/C021_A20_SY15_P07_B08_02DAS_check.json',\n",
       " './two/train/C021_A20_SY15_P07_B09_01DAS_check.json',\n",
       " './two/train/C021_A18_SY15_P07_B09_02DBS_check.json',\n",
       " './two/train/C021_A18_SY16_P07_B09_01DAS_check.json',\n",
       " './two/train/C021_A18_SY16_P07_B10_03DBS_check.json',\n",
       " './two/train/C021_A18_SY15_P07_B10_02DAS_check.json',\n",
       " './two/train/Stealing071_x264.json',\n",
       " './two/train/C021_A19_SY17_P07_B09_01DAS_check.json',\n",
       " './two/train/Stealing092_x264.json',\n",
       " './two/train/Stealing088_x264.json',\n",
       " './two/train/C021_A20_SY15_P07_B10_02DBS_check.json',\n",
       " './two/train/C021_A20_SY15_P07_B10_01DAS_check.json',\n",
       " './two/train/C021_A21_SY16_P07_B09_02DBS_check.json',\n",
       " './two/train/Stealing084_x264.json',\n",
       " './two/train/Stealing035_x264.json',\n",
       " './two/train/Stealing011_x264.json',\n",
       " './two/train/Stealing102_x264.json',\n",
       " './two/train/Stealing105_x264.json',\n",
       " './two/train/Stealing006_x264.json',\n",
       " './two/train/Stealing083_x264.json',\n",
       " './two/train/Stealing018_x264.json']"
      ]
     },
     "metadata": {},
     "execution_count": 4
    }
   ],
   "metadata": {}
  },
  {
   "cell_type": "code",
   "execution_count": 5,
   "source": [
    "import json\n",
    "for path in tqdm(train_paths):\n",
    "    filename, ext = os.path.splitext(os.path.basename(path))\n",
    "    with open(path, \"r\") as f:\n",
    "        json_file = json.load(f)\n",
    "\n",
    "    train_label_dict[\"{}\".format(filename)] = {\n",
    "        \"has_skeleton\":True,\n",
    "        \"label\":json_file[\"label\"],\n",
    "        \"label_index\":json_file[\"label_index\"]\n",
    "    }"
   ],
   "outputs": [
    {
     "output_type": "stream",
     "name": "stderr",
     "text": [
      "100%|██████████| 175/175 [00:17<00:00,  9.81it/s]\n"
     ]
    }
   ],
   "metadata": {}
  },
  {
   "cell_type": "code",
   "execution_count": 6,
   "source": [
    "output_path = \"./two/\"\n",
    "\n",
    "with open(output_path+\"train_label.json\",\"w\") as f:\n",
    "    json.dump(train_label_dict,f,indent=2)"
   ],
   "outputs": [],
   "metadata": {}
  },
  {
   "cell_type": "code",
   "execution_count": 7,
   "source": [
    "for path in tqdm(test_paths):\n",
    "    filename, ext = os.path.splitext(os.path.basename(path))\n",
    "    with open(path, \"r\") as f:\n",
    "        json_file = json.load(f)\n",
    "\n",
    "    val_label_dict[\"{}\".format(filename)] = {\n",
    "        \"has_skeleton\":True,\n",
    "        \"label\":json_file[\"label\"],\n",
    "        \"label_index\":json_file[\"label_index\"]\n",
    "    }"
   ],
   "outputs": [
    {
     "output_type": "stream",
     "name": "stderr",
     "text": [
      "100%|██████████| 76/76 [00:08<00:00,  9.17it/s]\n"
     ]
    }
   ],
   "metadata": {}
  },
  {
   "cell_type": "code",
   "execution_count": 8,
   "source": [
    "with open(output_path+\"val_label.json\",\"w\") as f:\n",
    "    json.dump(val_label_dict,f,indent=2)"
   ],
   "outputs": [],
   "metadata": {}
  },
  {
   "cell_type": "code",
   "execution_count": null,
   "source": [],
   "outputs": [],
   "metadata": {}
  }
 ],
 "metadata": {
  "orig_nbformat": 4,
  "language_info": {
   "name": "python",
   "version": "3.7.10",
   "mimetype": "text/x-python",
   "codemirror_mode": {
    "name": "ipython",
    "version": 3
   },
   "pygments_lexer": "ipython3",
   "nbconvert_exporter": "python",
   "file_extension": ".py"
  },
  "kernelspec": {
   "name": "python3",
   "display_name": "Python 3.7.10 64-bit ('st-gcn': conda)"
  },
  "interpreter": {
   "hash": "1f98bd61b5c951fa769bbc72dd2fe4bfce9ac5c594b13dc9f6b75a6e5ae1993b"
  }
 },
 "nbformat": 4,
 "nbformat_minor": 2
}