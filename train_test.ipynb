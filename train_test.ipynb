{
 "cells": [
  {
   "cell_type": "code",
   "execution_count": 1,
   "source": [
    "import os\n",
    "from glob import glob\n",
    "import json\n",
    "import tqdm"
   ],
   "outputs": [],
   "metadata": {}
  },
  {
   "cell_type": "code",
   "execution_count": null,
   "source": [],
   "outputs": [],
   "metadata": {}
  },
  {
   "cell_type": "code",
   "execution_count": 2,
   "source": [
    "class_names = ['C042', 'C041', 'C012', 'C021']"
   ],
   "outputs": [],
   "metadata": {}
  },
  {
   "cell_type": "code",
   "execution_count": 3,
   "source": [
    "class_names_list = {class_name:[] for class_name in class_names}\n",
    "class_names_list"
   ],
   "outputs": [
    {
     "output_type": "execute_result",
     "data": {
      "text/plain": [
       "{'C042': [], 'C021': [], 'C041': []}"
      ]
     },
     "metadata": {},
     "execution_count": 3
    }
   ],
   "metadata": {}
  },
  {
   "cell_type": "code",
   "execution_count": 4,
   "source": [
    "paths = glob(\"./customData/E2ON/*.json\")\n",
    "len(paths)"
   ],
   "outputs": [
    {
     "output_type": "execute_result",
     "data": {
      "text/plain": [
       "438"
      ]
     },
     "metadata": {},
     "execution_count": 4
    }
   ],
   "metadata": {}
  },
  {
   "cell_type": "code",
   "execution_count": 5,
   "source": [
    "for class_name in (class_names_list.keys()):\n",
    "    for path in tqdm.tqdm(paths):\n",
    "        with open(path, \"r\") as f:\n",
    "            temp_json = json.load(f)\n",
    "\n",
    "        if temp_json[\"label\"] == class_name:\n",
    "            class_names_list[class_name].append(path)\n",
    "    "
   ],
   "outputs": [
    {
     "output_type": "stream",
     "name": "stderr",
     "text": [
      "100%|██████████| 438/438 [00:46<00:00,  9.39it/s]\n",
      "100%|██████████| 438/438 [00:48<00:00,  8.98it/s]\n",
      "100%|██████████| 438/438 [00:47<00:00,  9.19it/s]\n"
     ]
    }
   ],
   "metadata": {}
  },
  {
   "cell_type": "code",
   "execution_count": 7,
   "source": [
    "import pickle\n",
    "# with open(\"class_names_list.pkl\", \"wb\") as f:\n",
    "#     pickle.dump(class_names_list, f)"
   ],
   "outputs": [],
   "metadata": {}
  },
  {
   "cell_type": "code",
   "execution_count": 6,
   "source": [
    "length_list = {class_name: len(class_names_list[class_name]) for class_name in class_names}\n",
    "# with open(\"length_list.pkl\", \"wb\") as f:\n",
    "#     pickle.dump(length_list, f)\n"
   ],
   "outputs": [],
   "metadata": {}
  },
  {
   "cell_type": "code",
   "execution_count": 5,
   "source": [
    "with open(\"class_names_list.pkl\", \"rb\") as f:\n",
    "    class_names_list = pickle.load(f)"
   ],
   "outputs": [],
   "metadata": {}
  },
  {
   "cell_type": "code",
   "execution_count": 8,
   "source": [
    "with open(\"length_list.pkl\", \"rb\") as f:\n",
    "    length_list = pickle.load(f) "
   ],
   "outputs": [],
   "metadata": {}
  },
  {
   "cell_type": "code",
   "execution_count": 7,
   "source": [
    "length_list"
   ],
   "outputs": [
    {
     "output_type": "execute_result",
     "data": {
      "text/plain": [
       "{'C042': 120, 'C021': 286, 'C041': 32}"
      ]
     },
     "metadata": {},
     "execution_count": 7
    }
   ],
   "metadata": {}
  },
  {
   "cell_type": "code",
   "execution_count": 10,
   "source": [
    "import matplotlib.pyplot as plt\n",
    "\n",
    "plt.figure(figsize=(5,5))\n",
    "plt.bar(length_list.keys(), length_list.values())"
   ],
   "outputs": [
    {
     "output_type": "execute_result",
     "data": {
      "text/plain": [
       "<BarContainer object of 2 artists>"
      ]
     },
     "metadata": {},
     "execution_count": 10
    },
    {
     "output_type": "display_data",
     "data": {
      "image/png": "[encoded data removed]",
      "text/plain": [
       "<Figure size 864x360 with 1 Axes>"
      ]
     },
     "metadata": {
      "needs_background": "light"
     }
    }
   ],
   "metadata": {}
  },
  {
   "cell_type": "code",
   "execution_count": 11,
   "source": [
    "def train_test_split(class_name):\n",
    "    train_size = int(len(class_names_list[class_name]) * 0.7 )\n",
    "\n",
    "    train = class_names_list[class_name][:train_size]\n",
    "    test = class_names_list[class_name][train_size:]\n",
    "    return train, test"
   ],
   "outputs": [],
   "metadata": {}
  },
  {
   "cell_type": "code",
   "execution_count": 14,
   "source": [
    "for key in tqdm.tqdm(class_names_list.keys()):\n",
    "    train, test = train_test_split(key)\n",
    "\n",
    "    for path in train:\n",
    "        filename = os.path.basename(path)\n",
    "\n",
    "        current = \"./customData/E2ON/\"+filename\n",
    "        os.system(f\"cp {current} ./two/train/\")\n",
    "        # os.system(f\"cp {current} ./allConvertedData/train/\")\n",
    "\n",
    "    for path in test:\n",
    "        filename = os.path.basename(path)\n",
    "        current = \"./customData/E2ON/\"+filename\n",
    "        os.system(f\"cp {current} ./two/val/\")\n",
    "        # os.system(f\"cp {current} ./allConvertedData/val/\")"
   ],
   "outputs": [
    {
     "output_type": "stream",
     "name": "stderr",
     "text": [
      "100%|██████████| 2/2 [00:08<00:00,  4.25s/it]\n"
     ]
    }
   ],
   "metadata": {}
  },
  {
   "cell_type": "code",
   "execution_count": null,
   "source": [],
   "outputs": [],
   "metadata": {}
  }
 ],
 "metadata": {
  "orig_nbformat": 4,
  "language_info": {
   "name": "python",
   "version": "3.7.10",
   "mimetype": "text/x-python",
   "codemirror_mode": {
    "name": "ipython",
    "version": 3
   },
   "pygments_lexer": "ipython3",
   "nbconvert_exporter": "python",
   "file_extension": ".py"
  },
  "kernelspec": {
   "name": "python3",
   "display_name": "Python 3.7.10 64-bit ('st-gcn': conda)"
  },
  "interpreter": {
   "hash": "1f98bd61b5c951fa769bbc72dd2fe4bfce9ac5c594b13dc9f6b75a6e5ae1993b"
  }
 },
 "nbformat": 4,
 "nbformat_minor": 2
}