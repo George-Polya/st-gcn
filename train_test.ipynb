{
 "cells": [
  {
   "cell_type": "code",
   "execution_count": 18,
   "source": [
    "import os\n",
    "from glob import os\n",
    "import json"
   ],
   "outputs": [],
   "metadata": {}
  },
  {
   "cell_type": "code",
   "execution_count": 19,
   "source": [],
   "outputs": [],
   "metadata": {}
  },
  {
   "cell_type": "code",
   "execution_count": 24,
   "source": [
    "class_names = ['dump','drunken', 'kidnap', 'shoplifting', 'wander', 'vandalism', 'trespass', \n",
    "               'swoon', 'datefight', 'stealing', 'burglary', 'assault', 'fight', 'fighting', 'robbery' ]"
   ],
   "outputs": [],
   "metadata": {}
  },
  {
   "cell_type": "code",
   "execution_count": 25,
   "source": [
    "class_names_list = {class_name:[] for class_name in class_names}\n",
    "class_names_list"
   ],
   "outputs": [
    {
     "output_type": "execute_result",
     "data": {
      "text/plain": [
       "{'dump': [],\n",
       " 'drunken': [],\n",
       " 'kidnap': [],\n",
       " 'shoplifting': [],\n",
       " 'wander': [],\n",
       " 'vandalism': [],\n",
       " 'trespass': [],\n",
       " 'swoon': [],\n",
       " 'datefight': [],\n",
       " 'stealing': [],\n",
       " 'burglary': [],\n",
       " 'assault': [],\n",
       " 'fight': [],\n",
       " 'fighting': [],\n",
       " 'robbery': []}"
      ]
     },
     "metadata": {},
     "execution_count": 25
    }
   ],
   "metadata": {}
  },
  {
   "cell_type": "code",
   "execution_count": 20,
   "source": [
    "paths = glob(\"./customData/all/*.json\")\n",
    "len(paths)"
   ],
   "outputs": [
    {
     "output_type": "execute_result",
     "data": {
      "text/plain": [
       "358"
      ]
     },
     "metadata": {},
     "execution_count": 20
    }
   ],
   "metadata": {}
  },
  {
   "cell_type": "code",
   "execution_count": 27,
   "source": [
    "for class_name in class_names_list.keys():\n",
    "    for path in paths:\n",
    "        with open(path, \"r\") as f:\n",
    "            temp_json = json.load(f)\n",
    "\n",
    "        if temp_json[\"label\"] == class_name:\n",
    "            class_names_list[class_name].append(path)"
   ],
   "outputs": [],
   "metadata": {}
  },
  {
   "cell_type": "code",
   "execution_count": 75,
   "source": [
    "def train_test_split(class_name):\n",
    "    train_size = int(len(class_names_list[class_name]) * 0.7 )\n",
    "\n",
    "    train = class_names_list[class_name][:train_size]\n",
    "    test = class_names_list[class_name][train_size:]\n",
    "    return train, test"
   ],
   "outputs": [],
   "metadata": {}
  },
  {
   "cell_type": "code",
   "execution_count": 81,
   "source": [
    "for key in class_names_list.keys():\n",
    "    train, test = train_test_split(key)\n",
    "\n",
    "    for path in train:\n",
    "        filename = os.path.basename(path)\n",
    "\n",
    "        current = \"./allConvertedData/\"+filename\n",
    "        os.system(f\"cp {current} ./customData/all/train/\")\n",
    "\n",
    "    for path in test:\n",
    "        filename = os.path.basename(path)\n",
    "        current = \"./allConvertedData/\"+filename\n",
    "        os.system(f\"cp {current} ./customData/all/val\")\n"
   ],
   "outputs": [],
   "metadata": {}
  },
  {
   "cell_type": "code",
   "execution_count": null,
   "source": [],
   "outputs": [],
   "metadata": {}
  }
 ],
 "metadata": {
  "orig_nbformat": 4,
  "language_info": {
   "name": "python"
  }
 },
 "nbformat": 4,
 "nbformat_minor": 2
}